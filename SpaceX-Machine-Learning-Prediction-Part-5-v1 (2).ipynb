{
 "cells": [
  {
   "cell_type": "markdown",
   "metadata": {},
   "source": [
    "<p style=\"text-align:center\">\n",
    "    <a href=\"https://skills.network/?utm_medium=Exinfluencer&utm_source=Exinfluencer&utm_content=000026UJ&utm_term=10006555&utm_id=NA-SkillsNetwork-Channel-SkillsNetworkCoursesIBMDS0321ENSkillsNetwork26802033-2022-01-01\" target=\"_blank\">\n",
    "    <img src=\"https://cf-courses-data.s3.us.cloud-object-storage.appdomain.cloud/assets/logos/SN_web_lightmode.png\" width=\"200\" alt=\"Skills Network Logo\">\n",
    "    </a>\n",
    "</p>\n"
   ]
  },
  {
   "cell_type": "markdown",
   "metadata": {},
   "source": [
    "# **Space X  Falcon 9 First Stage Landing Prediction**\n"
   ]
  },
  {
   "cell_type": "markdown",
   "metadata": {},
   "source": [
    "## Assignment:  Machine Learning Prediction\n"
   ]
  },
  {
   "cell_type": "markdown",
   "metadata": {},
   "source": [
    "Estimated time needed: **60** minutes\n"
   ]
  },
  {
   "cell_type": "markdown",
   "metadata": {},
   "source": [
    "Space X advertises Falcon 9 rocket launches on its website with a cost of 62 million dollars; other providers cost upward of 165 million dollars each, much of the savings is because Space X can reuse the first stage. Therefore if we can determine if the first stage will land, we can determine the cost of a launch. This information can be used if an alternate company wants to bid against space X for a rocket launch.   In this lab, you will create a machine learning pipeline  to predict if the first stage will land given the data from the preceding labs.\n"
   ]
  },
  {
   "cell_type": "markdown",
   "metadata": {},
   "source": [
    "![](https://cf-courses-data.s3.us.cloud-object-storage.appdomain.cloud/IBMDeveloperSkillsNetwork-DS0701EN-SkillsNetwork/api/Images/landing_1.gif)\n"
   ]
  },
  {
   "cell_type": "markdown",
   "metadata": {},
   "source": [
    "Several examples of an unsuccessful landing are shown here:\n"
   ]
  },
  {
   "cell_type": "markdown",
   "metadata": {},
   "source": [
    "![](https://cf-courses-data.s3.us.cloud-object-storage.appdomain.cloud/IBMDeveloperSkillsNetwork-DS0701EN-SkillsNetwork/api/Images/crash.gif)\n"
   ]
  },
  {
   "cell_type": "markdown",
   "metadata": {},
   "source": [
    "Most unsuccessful landings are planed. Space X; performs a controlled landing in the oceans.\n"
   ]
  },
  {
   "cell_type": "markdown",
   "metadata": {},
   "source": [
    "## Objectives\n"
   ]
  },
  {
   "cell_type": "markdown",
   "metadata": {},
   "source": [
    "Perform exploratory  Data Analysis and determine Training Labels\n",
    "\n",
    "*   create a column for the class\n",
    "*   Standardize the data\n",
    "*   Split into training data and test data\n",
    "\n",
    "\\-Find best Hyperparameter for SVM, Classification Trees and Logistic Regression\n",
    "\n",
    "*   Find the method performs best using test data\n"
   ]
  },
  {
   "cell_type": "markdown",
   "metadata": {},
   "source": [
    "## Import Libraries and Define Auxiliary Functions\n"
   ]
  },
  {
   "cell_type": "code",
   "execution_count": 1,
   "metadata": {},
   "outputs": [
    {
     "name": "stdout",
     "output_type": "stream",
     "text": [
      "Defaulting to user installation because normal site-packages is not writeable\n",
      "Requirement already satisfied: numpy in c:\\users\\christopher jones\\appdata\\roaming\\python\\python313\\site-packages (2.1.2)\n",
      "Defaulting to user installation because normal site-packages is not writeable\n",
      "Requirement already satisfied: pandas in c:\\users\\christopher jones\\appdata\\roaming\\python\\python313\\site-packages (2.2.3)\n",
      "Requirement already satisfied: numpy>=1.26.0 in c:\\users\\christopher jones\\appdata\\roaming\\python\\python313\\site-packages (from pandas) (2.1.2)\n",
      "Requirement already satisfied: python-dateutil>=2.8.2 in c:\\users\\christopher jones\\appdata\\roaming\\python\\python313\\site-packages (from pandas) (2.9.0.post0)\n",
      "Requirement already satisfied: pytz>=2020.1 in c:\\users\\christopher jones\\appdata\\roaming\\python\\python313\\site-packages (from pandas) (2024.2)\n",
      "Requirement already satisfied: tzdata>=2022.7 in c:\\users\\christopher jones\\appdata\\roaming\\python\\python313\\site-packages (from pandas) (2024.2)\n",
      "Requirement already satisfied: six>=1.5 in c:\\users\\christopher jones\\appdata\\roaming\\python\\python313\\site-packages (from python-dateutil>=2.8.2->pandas) (1.16.0)\n",
      "Defaulting to user installation because normal site-packages is not writeable\n",
      "Requirement already satisfied: seaborn in c:\\users\\christopher jones\\appdata\\roaming\\python\\python313\\site-packages (0.13.2)\n",
      "Requirement already satisfied: numpy!=1.24.0,>=1.20 in c:\\users\\christopher jones\\appdata\\roaming\\python\\python313\\site-packages (from seaborn) (2.1.2)\n",
      "Requirement already satisfied: pandas>=1.2 in c:\\users\\christopher jones\\appdata\\roaming\\python\\python313\\site-packages (from seaborn) (2.2.3)\n",
      "Requirement already satisfied: matplotlib!=3.6.1,>=3.4 in c:\\users\\christopher jones\\appdata\\roaming\\python\\python313\\site-packages (from seaborn) (3.9.2)\n",
      "Requirement already satisfied: contourpy>=1.0.1 in c:\\users\\christopher jones\\appdata\\roaming\\python\\python313\\site-packages (from matplotlib!=3.6.1,>=3.4->seaborn) (1.3.0)\n",
      "Requirement already satisfied: cycler>=0.10 in c:\\users\\christopher jones\\appdata\\roaming\\python\\python313\\site-packages (from matplotlib!=3.6.1,>=3.4->seaborn) (0.12.1)\n",
      "Requirement already satisfied: fonttools>=4.22.0 in c:\\users\\christopher jones\\appdata\\roaming\\python\\python313\\site-packages (from matplotlib!=3.6.1,>=3.4->seaborn) (4.54.1)\n",
      "Requirement already satisfied: kiwisolver>=1.3.1 in c:\\users\\christopher jones\\appdata\\roaming\\python\\python313\\site-packages (from matplotlib!=3.6.1,>=3.4->seaborn) (1.4.7)\n",
      "Requirement already satisfied: packaging>=20.0 in c:\\users\\christopher jones\\appdata\\roaming\\python\\python313\\site-packages (from matplotlib!=3.6.1,>=3.4->seaborn) (24.1)\n",
      "Requirement already satisfied: pillow>=8 in c:\\users\\christopher jones\\appdata\\roaming\\python\\python313\\site-packages (from matplotlib!=3.6.1,>=3.4->seaborn) (10.4.0)\n",
      "Requirement already satisfied: pyparsing>=2.3.1 in c:\\users\\christopher jones\\appdata\\roaming\\python\\python313\\site-packages (from matplotlib!=3.6.1,>=3.4->seaborn) (3.2.0)\n",
      "Requirement already satisfied: python-dateutil>=2.7 in c:\\users\\christopher jones\\appdata\\roaming\\python\\python313\\site-packages (from matplotlib!=3.6.1,>=3.4->seaborn) (2.9.0.post0)\n",
      "Requirement already satisfied: pytz>=2020.1 in c:\\users\\christopher jones\\appdata\\roaming\\python\\python313\\site-packages (from pandas>=1.2->seaborn) (2024.2)\n",
      "Requirement already satisfied: tzdata>=2022.7 in c:\\users\\christopher jones\\appdata\\roaming\\python\\python313\\site-packages (from pandas>=1.2->seaborn) (2024.2)\n",
      "Requirement already satisfied: six>=1.5 in c:\\users\\christopher jones\\appdata\\roaming\\python\\python313\\site-packages (from python-dateutil>=2.7->matplotlib!=3.6.1,>=3.4->seaborn) (1.16.0)\n",
      "Defaulting to user installation because normal site-packages is not writeable\n",
      "Requirement already satisfied: scikit-learn in c:\\users\\christopher jones\\appdata\\roaming\\python\\python313\\site-packages (1.5.2)\n",
      "Requirement already satisfied: numpy>=1.19.5 in c:\\users\\christopher jones\\appdata\\roaming\\python\\python313\\site-packages (from scikit-learn) (2.1.2)\n",
      "Requirement already satisfied: scipy>=1.6.0 in c:\\users\\christopher jones\\appdata\\roaming\\python\\python313\\site-packages (from scikit-learn) (1.14.1)\n",
      "Requirement already satisfied: joblib>=1.2.0 in c:\\users\\christopher jones\\appdata\\roaming\\python\\python313\\site-packages (from scikit-learn) (1.4.2)\n",
      "Requirement already satisfied: threadpoolctl>=3.1.0 in c:\\users\\christopher jones\\appdata\\roaming\\python\\python313\\site-packages (from scikit-learn) (3.5.0)\n"
     ]
    }
   ],
   "source": [
    "!pip install numpy\n",
    "!pip install pandas\n",
    "!pip install seaborn\n",
    "!pip install scikit-learn"
   ]
  },
  {
   "cell_type": "markdown",
   "metadata": {},
   "source": [
    "We will import the following libraries for the lab\n"
   ]
  },
  {
   "cell_type": "code",
   "execution_count": 2,
   "metadata": {},
   "outputs": [],
   "source": [
    "# Pandas is a software library written for the Python programming language for data manipulation and analysis.\n",
    "import pandas as pd\n",
    "# NumPy is a library for the Python programming language, adding support for large, multi-dimensional arrays and matrices, along with a large collection of high-level mathematical functions to operate on these arrays\n",
    "import numpy as np\n",
    "# Matplotlib is a plotting library for python and pyplot gives us a MatLab like plotting framework. We will use this in our plotter function to plot data.\n",
    "import matplotlib.pyplot as plt\n",
    "#Seaborn is a Python data visualization library based on matplotlib. It provides a high-level interface for drawing attractive and informative statistical graphics\n",
    "import seaborn as sns\n",
    "# Preprocessing allows us to standarsize our data\n",
    "from sklearn import preprocessing\n",
    "# Allows us to split our data into training and testing data\n",
    "from sklearn.model_selection import train_test_split\n",
    "# Allows us to test parameters of classification algorithms and find the best one\n",
    "from sklearn.model_selection import GridSearchCV\n",
    "# Logistic Regression classification algorithm\n",
    "from sklearn.linear_model import LogisticRegression\n",
    "# Support Vector Machine classification algorithm\n",
    "from sklearn.svm import SVC\n",
    "# Decision Tree classification algorithm\n",
    "from sklearn.tree import DecisionTreeClassifier\n",
    "# K Nearest Neighbors classification algorithm\n",
    "from sklearn.neighbors import KNeighborsClassifier"
   ]
  },
  {
   "cell_type": "markdown",
   "metadata": {},
   "source": [
    "This function is to plot the confusion matrix.\n"
   ]
  },
  {
   "cell_type": "code",
   "execution_count": 3,
   "metadata": {},
   "outputs": [],
   "source": [
    "def plot_confusion_matrix(y,y_predict):\n",
    "    \"this function plots the confusion matrix\"\n",
    "    from sklearn.metrics import confusion_matrix\n",
    "\n",
    "    cm = confusion_matrix(y, y_predict)\n",
    "    ax= plt.subplot()\n",
    "    sns.heatmap(cm, annot=True, ax = ax); #annot=True to annotate cells\n",
    "    ax.set_xlabel('Predicted labels')\n",
    "    ax.set_ylabel('True labels')\n",
    "    ax.set_title('Confusion Matrix'); \n",
    "    ax.xaxis.set_ticklabels(['did not land', 'land']); ax.yaxis.set_ticklabels(['did not land', 'landed']) \n",
    "    plt.show() "
   ]
  },
  {
   "cell_type": "markdown",
   "metadata": {},
   "source": [
    "## Load the dataframe\n"
   ]
  },
  {
   "cell_type": "markdown",
   "metadata": {},
   "source": [
    "Load the data\n"
   ]
  },
  {
   "cell_type": "code",
   "execution_count": 4,
   "metadata": {},
   "outputs": [],
   "source": [
    "data = pd.read_csv(\"https://cf-courses-data.s3.us.cloud-object-storage.appdomain.cloud/IBM-DS0321EN-SkillsNetwork/datasets/dataset_part_2.csv\")\n"
   ]
  },
  {
   "cell_type": "code",
   "execution_count": 5,
   "metadata": {},
   "outputs": [
    {
     "data": {
      "text/html": [
       "<div>\n",
       "<style scoped>\n",
       "    .dataframe tbody tr th:only-of-type {\n",
       "        vertical-align: middle;\n",
       "    }\n",
       "\n",
       "    .dataframe tbody tr th {\n",
       "        vertical-align: top;\n",
       "    }\n",
       "\n",
       "    .dataframe thead th {\n",
       "        text-align: right;\n",
       "    }\n",
       "</style>\n",
       "<table border=\"1\" class=\"dataframe\">\n",
       "  <thead>\n",
       "    <tr style=\"text-align: right;\">\n",
       "      <th></th>\n",
       "      <th>FlightNumber</th>\n",
       "      <th>Date</th>\n",
       "      <th>BoosterVersion</th>\n",
       "      <th>PayloadMass</th>\n",
       "      <th>Orbit</th>\n",
       "      <th>LaunchSite</th>\n",
       "      <th>Outcome</th>\n",
       "      <th>Flights</th>\n",
       "      <th>GridFins</th>\n",
       "      <th>Reused</th>\n",
       "      <th>Legs</th>\n",
       "      <th>LandingPad</th>\n",
       "      <th>Block</th>\n",
       "      <th>ReusedCount</th>\n",
       "      <th>Serial</th>\n",
       "      <th>Longitude</th>\n",
       "      <th>Latitude</th>\n",
       "      <th>Class</th>\n",
       "    </tr>\n",
       "  </thead>\n",
       "  <tbody>\n",
       "    <tr>\n",
       "      <th>0</th>\n",
       "      <td>1</td>\n",
       "      <td>2010-06-04</td>\n",
       "      <td>Falcon 9</td>\n",
       "      <td>6104.959412</td>\n",
       "      <td>LEO</td>\n",
       "      <td>CCAFS SLC 40</td>\n",
       "      <td>None None</td>\n",
       "      <td>1</td>\n",
       "      <td>False</td>\n",
       "      <td>False</td>\n",
       "      <td>False</td>\n",
       "      <td>NaN</td>\n",
       "      <td>1.0</td>\n",
       "      <td>0</td>\n",
       "      <td>B0003</td>\n",
       "      <td>-80.577366</td>\n",
       "      <td>28.561857</td>\n",
       "      <td>0</td>\n",
       "    </tr>\n",
       "    <tr>\n",
       "      <th>1</th>\n",
       "      <td>2</td>\n",
       "      <td>2012-05-22</td>\n",
       "      <td>Falcon 9</td>\n",
       "      <td>525.000000</td>\n",
       "      <td>LEO</td>\n",
       "      <td>CCAFS SLC 40</td>\n",
       "      <td>None None</td>\n",
       "      <td>1</td>\n",
       "      <td>False</td>\n",
       "      <td>False</td>\n",
       "      <td>False</td>\n",
       "      <td>NaN</td>\n",
       "      <td>1.0</td>\n",
       "      <td>0</td>\n",
       "      <td>B0005</td>\n",
       "      <td>-80.577366</td>\n",
       "      <td>28.561857</td>\n",
       "      <td>0</td>\n",
       "    </tr>\n",
       "    <tr>\n",
       "      <th>2</th>\n",
       "      <td>3</td>\n",
       "      <td>2013-03-01</td>\n",
       "      <td>Falcon 9</td>\n",
       "      <td>677.000000</td>\n",
       "      <td>ISS</td>\n",
       "      <td>CCAFS SLC 40</td>\n",
       "      <td>None None</td>\n",
       "      <td>1</td>\n",
       "      <td>False</td>\n",
       "      <td>False</td>\n",
       "      <td>False</td>\n",
       "      <td>NaN</td>\n",
       "      <td>1.0</td>\n",
       "      <td>0</td>\n",
       "      <td>B0007</td>\n",
       "      <td>-80.577366</td>\n",
       "      <td>28.561857</td>\n",
       "      <td>0</td>\n",
       "    </tr>\n",
       "    <tr>\n",
       "      <th>3</th>\n",
       "      <td>4</td>\n",
       "      <td>2013-09-29</td>\n",
       "      <td>Falcon 9</td>\n",
       "      <td>500.000000</td>\n",
       "      <td>PO</td>\n",
       "      <td>VAFB SLC 4E</td>\n",
       "      <td>False Ocean</td>\n",
       "      <td>1</td>\n",
       "      <td>False</td>\n",
       "      <td>False</td>\n",
       "      <td>False</td>\n",
       "      <td>NaN</td>\n",
       "      <td>1.0</td>\n",
       "      <td>0</td>\n",
       "      <td>B1003</td>\n",
       "      <td>-120.610829</td>\n",
       "      <td>34.632093</td>\n",
       "      <td>0</td>\n",
       "    </tr>\n",
       "    <tr>\n",
       "      <th>4</th>\n",
       "      <td>5</td>\n",
       "      <td>2013-12-03</td>\n",
       "      <td>Falcon 9</td>\n",
       "      <td>3170.000000</td>\n",
       "      <td>GTO</td>\n",
       "      <td>CCAFS SLC 40</td>\n",
       "      <td>None None</td>\n",
       "      <td>1</td>\n",
       "      <td>False</td>\n",
       "      <td>False</td>\n",
       "      <td>False</td>\n",
       "      <td>NaN</td>\n",
       "      <td>1.0</td>\n",
       "      <td>0</td>\n",
       "      <td>B1004</td>\n",
       "      <td>-80.577366</td>\n",
       "      <td>28.561857</td>\n",
       "      <td>0</td>\n",
       "    </tr>\n",
       "  </tbody>\n",
       "</table>\n",
       "</div>"
      ],
      "text/plain": [
       "   FlightNumber        Date BoosterVersion  PayloadMass Orbit    LaunchSite  \\\n",
       "0             1  2010-06-04       Falcon 9  6104.959412   LEO  CCAFS SLC 40   \n",
       "1             2  2012-05-22       Falcon 9   525.000000   LEO  CCAFS SLC 40   \n",
       "2             3  2013-03-01       Falcon 9   677.000000   ISS  CCAFS SLC 40   \n",
       "3             4  2013-09-29       Falcon 9   500.000000    PO   VAFB SLC 4E   \n",
       "4             5  2013-12-03       Falcon 9  3170.000000   GTO  CCAFS SLC 40   \n",
       "\n",
       "       Outcome  Flights  GridFins  Reused   Legs LandingPad  Block  \\\n",
       "0    None None        1     False   False  False        NaN    1.0   \n",
       "1    None None        1     False   False  False        NaN    1.0   \n",
       "2    None None        1     False   False  False        NaN    1.0   \n",
       "3  False Ocean        1     False   False  False        NaN    1.0   \n",
       "4    None None        1     False   False  False        NaN    1.0   \n",
       "\n",
       "   ReusedCount Serial   Longitude   Latitude  Class  \n",
       "0            0  B0003  -80.577366  28.561857      0  \n",
       "1            0  B0005  -80.577366  28.561857      0  \n",
       "2            0  B0007  -80.577366  28.561857      0  \n",
       "3            0  B1003 -120.610829  34.632093      0  \n",
       "4            0  B1004  -80.577366  28.561857      0  "
      ]
     },
     "execution_count": 5,
     "metadata": {},
     "output_type": "execute_result"
    }
   ],
   "source": [
    "data.head()"
   ]
  },
  {
   "cell_type": "code",
   "execution_count": 6,
   "metadata": {},
   "outputs": [],
   "source": [
    "\n",
    "X = pd.read_csv('https://cf-courses-data.s3.us.cloud-object-storage.appdomain.cloud/IBM-DS0321EN-SkillsNetwork/datasets/dataset_part_3.csv')"
   ]
  },
  {
   "cell_type": "code",
   "execution_count": 7,
   "metadata": {},
   "outputs": [
    {
     "data": {
      "text/html": [
       "<div>\n",
       "<style scoped>\n",
       "    .dataframe tbody tr th:only-of-type {\n",
       "        vertical-align: middle;\n",
       "    }\n",
       "\n",
       "    .dataframe tbody tr th {\n",
       "        vertical-align: top;\n",
       "    }\n",
       "\n",
       "    .dataframe thead th {\n",
       "        text-align: right;\n",
       "    }\n",
       "</style>\n",
       "<table border=\"1\" class=\"dataframe\">\n",
       "  <thead>\n",
       "    <tr style=\"text-align: right;\">\n",
       "      <th></th>\n",
       "      <th>FlightNumber</th>\n",
       "      <th>PayloadMass</th>\n",
       "      <th>Flights</th>\n",
       "      <th>Block</th>\n",
       "      <th>ReusedCount</th>\n",
       "      <th>Orbit_ES-L1</th>\n",
       "      <th>Orbit_GEO</th>\n",
       "      <th>Orbit_GTO</th>\n",
       "      <th>Orbit_HEO</th>\n",
       "      <th>Orbit_ISS</th>\n",
       "      <th>...</th>\n",
       "      <th>Serial_B1058</th>\n",
       "      <th>Serial_B1059</th>\n",
       "      <th>Serial_B1060</th>\n",
       "      <th>Serial_B1062</th>\n",
       "      <th>GridFins_False</th>\n",
       "      <th>GridFins_True</th>\n",
       "      <th>Reused_False</th>\n",
       "      <th>Reused_True</th>\n",
       "      <th>Legs_False</th>\n",
       "      <th>Legs_True</th>\n",
       "    </tr>\n",
       "  </thead>\n",
       "  <tbody>\n",
       "    <tr>\n",
       "      <th>0</th>\n",
       "      <td>1.0</td>\n",
       "      <td>6104.959412</td>\n",
       "      <td>1.0</td>\n",
       "      <td>1.0</td>\n",
       "      <td>0.0</td>\n",
       "      <td>0.0</td>\n",
       "      <td>0.0</td>\n",
       "      <td>0.0</td>\n",
       "      <td>0.0</td>\n",
       "      <td>0.0</td>\n",
       "      <td>...</td>\n",
       "      <td>0.0</td>\n",
       "      <td>0.0</td>\n",
       "      <td>0.0</td>\n",
       "      <td>0.0</td>\n",
       "      <td>1.0</td>\n",
       "      <td>0.0</td>\n",
       "      <td>1.0</td>\n",
       "      <td>0.0</td>\n",
       "      <td>1.0</td>\n",
       "      <td>0.0</td>\n",
       "    </tr>\n",
       "    <tr>\n",
       "      <th>1</th>\n",
       "      <td>2.0</td>\n",
       "      <td>525.000000</td>\n",
       "      <td>1.0</td>\n",
       "      <td>1.0</td>\n",
       "      <td>0.0</td>\n",
       "      <td>0.0</td>\n",
       "      <td>0.0</td>\n",
       "      <td>0.0</td>\n",
       "      <td>0.0</td>\n",
       "      <td>0.0</td>\n",
       "      <td>...</td>\n",
       "      <td>0.0</td>\n",
       "      <td>0.0</td>\n",
       "      <td>0.0</td>\n",
       "      <td>0.0</td>\n",
       "      <td>1.0</td>\n",
       "      <td>0.0</td>\n",
       "      <td>1.0</td>\n",
       "      <td>0.0</td>\n",
       "      <td>1.0</td>\n",
       "      <td>0.0</td>\n",
       "    </tr>\n",
       "    <tr>\n",
       "      <th>2</th>\n",
       "      <td>3.0</td>\n",
       "      <td>677.000000</td>\n",
       "      <td>1.0</td>\n",
       "      <td>1.0</td>\n",
       "      <td>0.0</td>\n",
       "      <td>0.0</td>\n",
       "      <td>0.0</td>\n",
       "      <td>0.0</td>\n",
       "      <td>0.0</td>\n",
       "      <td>1.0</td>\n",
       "      <td>...</td>\n",
       "      <td>0.0</td>\n",
       "      <td>0.0</td>\n",
       "      <td>0.0</td>\n",
       "      <td>0.0</td>\n",
       "      <td>1.0</td>\n",
       "      <td>0.0</td>\n",
       "      <td>1.0</td>\n",
       "      <td>0.0</td>\n",
       "      <td>1.0</td>\n",
       "      <td>0.0</td>\n",
       "    </tr>\n",
       "    <tr>\n",
       "      <th>3</th>\n",
       "      <td>4.0</td>\n",
       "      <td>500.000000</td>\n",
       "      <td>1.0</td>\n",
       "      <td>1.0</td>\n",
       "      <td>0.0</td>\n",
       "      <td>0.0</td>\n",
       "      <td>0.0</td>\n",
       "      <td>0.0</td>\n",
       "      <td>0.0</td>\n",
       "      <td>0.0</td>\n",
       "      <td>...</td>\n",
       "      <td>0.0</td>\n",
       "      <td>0.0</td>\n",
       "      <td>0.0</td>\n",
       "      <td>0.0</td>\n",
       "      <td>1.0</td>\n",
       "      <td>0.0</td>\n",
       "      <td>1.0</td>\n",
       "      <td>0.0</td>\n",
       "      <td>1.0</td>\n",
       "      <td>0.0</td>\n",
       "    </tr>\n",
       "    <tr>\n",
       "      <th>4</th>\n",
       "      <td>5.0</td>\n",
       "      <td>3170.000000</td>\n",
       "      <td>1.0</td>\n",
       "      <td>1.0</td>\n",
       "      <td>0.0</td>\n",
       "      <td>0.0</td>\n",
       "      <td>0.0</td>\n",
       "      <td>1.0</td>\n",
       "      <td>0.0</td>\n",
       "      <td>0.0</td>\n",
       "      <td>...</td>\n",
       "      <td>0.0</td>\n",
       "      <td>0.0</td>\n",
       "      <td>0.0</td>\n",
       "      <td>0.0</td>\n",
       "      <td>1.0</td>\n",
       "      <td>0.0</td>\n",
       "      <td>1.0</td>\n",
       "      <td>0.0</td>\n",
       "      <td>1.0</td>\n",
       "      <td>0.0</td>\n",
       "    </tr>\n",
       "    <tr>\n",
       "      <th>...</th>\n",
       "      <td>...</td>\n",
       "      <td>...</td>\n",
       "      <td>...</td>\n",
       "      <td>...</td>\n",
       "      <td>...</td>\n",
       "      <td>...</td>\n",
       "      <td>...</td>\n",
       "      <td>...</td>\n",
       "      <td>...</td>\n",
       "      <td>...</td>\n",
       "      <td>...</td>\n",
       "      <td>...</td>\n",
       "      <td>...</td>\n",
       "      <td>...</td>\n",
       "      <td>...</td>\n",
       "      <td>...</td>\n",
       "      <td>...</td>\n",
       "      <td>...</td>\n",
       "      <td>...</td>\n",
       "      <td>...</td>\n",
       "      <td>...</td>\n",
       "    </tr>\n",
       "    <tr>\n",
       "      <th>85</th>\n",
       "      <td>86.0</td>\n",
       "      <td>15400.000000</td>\n",
       "      <td>2.0</td>\n",
       "      <td>5.0</td>\n",
       "      <td>2.0</td>\n",
       "      <td>0.0</td>\n",
       "      <td>0.0</td>\n",
       "      <td>0.0</td>\n",
       "      <td>0.0</td>\n",
       "      <td>0.0</td>\n",
       "      <td>...</td>\n",
       "      <td>0.0</td>\n",
       "      <td>0.0</td>\n",
       "      <td>1.0</td>\n",
       "      <td>0.0</td>\n",
       "      <td>0.0</td>\n",
       "      <td>1.0</td>\n",
       "      <td>0.0</td>\n",
       "      <td>1.0</td>\n",
       "      <td>0.0</td>\n",
       "      <td>1.0</td>\n",
       "    </tr>\n",
       "    <tr>\n",
       "      <th>86</th>\n",
       "      <td>87.0</td>\n",
       "      <td>15400.000000</td>\n",
       "      <td>3.0</td>\n",
       "      <td>5.0</td>\n",
       "      <td>2.0</td>\n",
       "      <td>0.0</td>\n",
       "      <td>0.0</td>\n",
       "      <td>0.0</td>\n",
       "      <td>0.0</td>\n",
       "      <td>0.0</td>\n",
       "      <td>...</td>\n",
       "      <td>1.0</td>\n",
       "      <td>0.0</td>\n",
       "      <td>0.0</td>\n",
       "      <td>0.0</td>\n",
       "      <td>0.0</td>\n",
       "      <td>1.0</td>\n",
       "      <td>0.0</td>\n",
       "      <td>1.0</td>\n",
       "      <td>0.0</td>\n",
       "      <td>1.0</td>\n",
       "    </tr>\n",
       "    <tr>\n",
       "      <th>87</th>\n",
       "      <td>88.0</td>\n",
       "      <td>15400.000000</td>\n",
       "      <td>6.0</td>\n",
       "      <td>5.0</td>\n",
       "      <td>5.0</td>\n",
       "      <td>0.0</td>\n",
       "      <td>0.0</td>\n",
       "      <td>0.0</td>\n",
       "      <td>0.0</td>\n",
       "      <td>0.0</td>\n",
       "      <td>...</td>\n",
       "      <td>0.0</td>\n",
       "      <td>0.0</td>\n",
       "      <td>0.0</td>\n",
       "      <td>0.0</td>\n",
       "      <td>0.0</td>\n",
       "      <td>1.0</td>\n",
       "      <td>0.0</td>\n",
       "      <td>1.0</td>\n",
       "      <td>0.0</td>\n",
       "      <td>1.0</td>\n",
       "    </tr>\n",
       "    <tr>\n",
       "      <th>88</th>\n",
       "      <td>89.0</td>\n",
       "      <td>15400.000000</td>\n",
       "      <td>3.0</td>\n",
       "      <td>5.0</td>\n",
       "      <td>2.0</td>\n",
       "      <td>0.0</td>\n",
       "      <td>0.0</td>\n",
       "      <td>0.0</td>\n",
       "      <td>0.0</td>\n",
       "      <td>0.0</td>\n",
       "      <td>...</td>\n",
       "      <td>0.0</td>\n",
       "      <td>0.0</td>\n",
       "      <td>1.0</td>\n",
       "      <td>0.0</td>\n",
       "      <td>0.0</td>\n",
       "      <td>1.0</td>\n",
       "      <td>0.0</td>\n",
       "      <td>1.0</td>\n",
       "      <td>0.0</td>\n",
       "      <td>1.0</td>\n",
       "    </tr>\n",
       "    <tr>\n",
       "      <th>89</th>\n",
       "      <td>90.0</td>\n",
       "      <td>3681.000000</td>\n",
       "      <td>1.0</td>\n",
       "      <td>5.0</td>\n",
       "      <td>0.0</td>\n",
       "      <td>0.0</td>\n",
       "      <td>0.0</td>\n",
       "      <td>0.0</td>\n",
       "      <td>0.0</td>\n",
       "      <td>0.0</td>\n",
       "      <td>...</td>\n",
       "      <td>0.0</td>\n",
       "      <td>0.0</td>\n",
       "      <td>0.0</td>\n",
       "      <td>1.0</td>\n",
       "      <td>0.0</td>\n",
       "      <td>1.0</td>\n",
       "      <td>1.0</td>\n",
       "      <td>0.0</td>\n",
       "      <td>0.0</td>\n",
       "      <td>1.0</td>\n",
       "    </tr>\n",
       "  </tbody>\n",
       "</table>\n",
       "<p>90 rows × 83 columns</p>\n",
       "</div>"
      ],
      "text/plain": [
       "    FlightNumber   PayloadMass  Flights  Block  ReusedCount  Orbit_ES-L1  \\\n",
       "0            1.0   6104.959412      1.0    1.0          0.0          0.0   \n",
       "1            2.0    525.000000      1.0    1.0          0.0          0.0   \n",
       "2            3.0    677.000000      1.0    1.0          0.0          0.0   \n",
       "3            4.0    500.000000      1.0    1.0          0.0          0.0   \n",
       "4            5.0   3170.000000      1.0    1.0          0.0          0.0   \n",
       "..           ...           ...      ...    ...          ...          ...   \n",
       "85          86.0  15400.000000      2.0    5.0          2.0          0.0   \n",
       "86          87.0  15400.000000      3.0    5.0          2.0          0.0   \n",
       "87          88.0  15400.000000      6.0    5.0          5.0          0.0   \n",
       "88          89.0  15400.000000      3.0    5.0          2.0          0.0   \n",
       "89          90.0   3681.000000      1.0    5.0          0.0          0.0   \n",
       "\n",
       "    Orbit_GEO  Orbit_GTO  Orbit_HEO  Orbit_ISS  ...  Serial_B1058  \\\n",
       "0         0.0        0.0        0.0        0.0  ...           0.0   \n",
       "1         0.0        0.0        0.0        0.0  ...           0.0   \n",
       "2         0.0        0.0        0.0        1.0  ...           0.0   \n",
       "3         0.0        0.0        0.0        0.0  ...           0.0   \n",
       "4         0.0        1.0        0.0        0.0  ...           0.0   \n",
       "..        ...        ...        ...        ...  ...           ...   \n",
       "85        0.0        0.0        0.0        0.0  ...           0.0   \n",
       "86        0.0        0.0        0.0        0.0  ...           1.0   \n",
       "87        0.0        0.0        0.0        0.0  ...           0.0   \n",
       "88        0.0        0.0        0.0        0.0  ...           0.0   \n",
       "89        0.0        0.0        0.0        0.0  ...           0.0   \n",
       "\n",
       "    Serial_B1059  Serial_B1060  Serial_B1062  GridFins_False  GridFins_True  \\\n",
       "0            0.0           0.0           0.0             1.0            0.0   \n",
       "1            0.0           0.0           0.0             1.0            0.0   \n",
       "2            0.0           0.0           0.0             1.0            0.0   \n",
       "3            0.0           0.0           0.0             1.0            0.0   \n",
       "4            0.0           0.0           0.0             1.0            0.0   \n",
       "..           ...           ...           ...             ...            ...   \n",
       "85           0.0           1.0           0.0             0.0            1.0   \n",
       "86           0.0           0.0           0.0             0.0            1.0   \n",
       "87           0.0           0.0           0.0             0.0            1.0   \n",
       "88           0.0           1.0           0.0             0.0            1.0   \n",
       "89           0.0           0.0           1.0             0.0            1.0   \n",
       "\n",
       "    Reused_False  Reused_True  Legs_False  Legs_True  \n",
       "0            1.0          0.0         1.0        0.0  \n",
       "1            1.0          0.0         1.0        0.0  \n",
       "2            1.0          0.0         1.0        0.0  \n",
       "3            1.0          0.0         1.0        0.0  \n",
       "4            1.0          0.0         1.0        0.0  \n",
       "..           ...          ...         ...        ...  \n",
       "85           0.0          1.0         0.0        1.0  \n",
       "86           0.0          1.0         0.0        1.0  \n",
       "87           0.0          1.0         0.0        1.0  \n",
       "88           0.0          1.0         0.0        1.0  \n",
       "89           1.0          0.0         0.0        1.0  \n",
       "\n",
       "[90 rows x 83 columns]"
      ]
     },
     "execution_count": 7,
     "metadata": {},
     "output_type": "execute_result"
    }
   ],
   "source": [
    "X.head(100)"
   ]
  },
  {
   "cell_type": "markdown",
   "metadata": {},
   "source": [
    "## TASK  1\n"
   ]
  },
  {
   "cell_type": "markdown",
   "metadata": {},
   "source": [
    "Create a NumPy array from the column <code>Class</code> in <code>data</code>, by applying the method <code>to_numpy()</code>  then\n",
    "assign it  to the variable <code>Y</code>,make sure the output is a  Pandas series (only one bracket df\\['name of  column']).\n"
   ]
  },
  {
   "cell_type": "code",
   "execution_count": 8,
   "metadata": {},
   "outputs": [
    {
     "ename": "NameError",
     "evalue": "name 'df' is not defined",
     "output_type": "error",
     "traceback": [
      "\u001b[1;31m---------------------------------------------------------------------------\u001b[0m",
      "\u001b[1;31mNameError\u001b[0m                                 Traceback (most recent call last)",
      "Cell \u001b[1;32mIn[8], line 2\u001b[0m\n\u001b[0;32m      1\u001b[0m \u001b[38;5;66;03m# Convert the 'Class' column to a NumPy array\u001b[39;00m\n\u001b[1;32m----> 2\u001b[0m Y \u001b[38;5;241m=\u001b[39m \u001b[43mdf\u001b[49m[\u001b[38;5;124m'\u001b[39m\u001b[38;5;124mClass\u001b[39m\u001b[38;5;124m'\u001b[39m]\u001b[38;5;241m.\u001b[39mto_numpy()\n\u001b[0;32m      4\u001b[0m \u001b[38;5;66;03m# Display the first few elements to confirm\u001b[39;00m\n\u001b[0;32m      5\u001b[0m \u001b[38;5;28mprint\u001b[39m(Y[:\u001b[38;5;241m10\u001b[39m])  \u001b[38;5;66;03m# Displaying first 10 elements of the array\u001b[39;00m\n",
      "\u001b[1;31mNameError\u001b[0m: name 'df' is not defined"
     ]
    }
   ],
   "source": [
    "# Convert the 'Class' column to a NumPy array\n",
    "Y = df['Class'].to_numpy()\n",
    "\n",
    "# Display the first few elements to confirm\n",
    "print(Y[:10])  # Displaying first 10 elements of the array"
   ]
  },
  {
   "cell_type": "code",
   "execution_count": 9,
   "metadata": {},
   "outputs": [
    {
     "name": "stdout",
     "output_type": "stream",
     "text": [
      "   FlightNumber        Date BoosterVersion  PayloadMass Orbit    LaunchSite  \\\n",
      "0             1  2010-06-04       Falcon 9  6104.959412   LEO  CCAFS SLC 40   \n",
      "1             2  2012-05-22       Falcon 9   525.000000   LEO  CCAFS SLC 40   \n",
      "2             3  2013-03-01       Falcon 9   677.000000   ISS  CCAFS SLC 40   \n",
      "3             4  2013-09-29       Falcon 9   500.000000    PO   VAFB SLC 4E   \n",
      "4             5  2013-12-03       Falcon 9  3170.000000   GTO  CCAFS SLC 40   \n",
      "\n",
      "       Outcome  Flights  GridFins  Reused   Legs LandingPad  Block  \\\n",
      "0    None None        1     False   False  False        NaN    1.0   \n",
      "1    None None        1     False   False  False        NaN    1.0   \n",
      "2    None None        1     False   False  False        NaN    1.0   \n",
      "3  False Ocean        1     False   False  False        NaN    1.0   \n",
      "4    None None        1     False   False  False        NaN    1.0   \n",
      "\n",
      "   ReusedCount Serial   Longitude   Latitude  \n",
      "0            0  B0003  -80.577366  28.561857  \n",
      "1            0  B0005  -80.577366  28.561857  \n",
      "2            0  B0007  -80.577366  28.561857  \n",
      "3            0  B1003 -120.610829  34.632093  \n",
      "4            0  B1004  -80.577366  28.561857  \n"
     ]
    }
   ],
   "source": [
    "import pandas as pd\n",
    "\n",
    "# Load the dataset\n",
    "df = pd.read_csv(\"https://cf-courses-data.s3.us.cloud-object-storage.appdomain.cloud/IBM-DS0321EN-SkillsNetwork/datasets/dataset_part_1.csv\")\n",
    "\n",
    "# Display the first few rows of the dataset to verify\n",
    "print(df.head())"
   ]
  },
  {
   "cell_type": "code",
   "execution_count": 11,
   "metadata": {},
   "outputs": [
    {
     "name": "stdout",
     "output_type": "stream",
     "text": [
      "Index(['FlightNumber', 'Date', 'BoosterVersion', 'PayloadMass', 'Orbit',\n",
      "       'LaunchSite', 'Outcome', 'Flights', 'GridFins', 'Reused', 'Legs',\n",
      "       'LandingPad', 'Block', 'ReusedCount', 'Serial', 'Longitude',\n",
      "       'Latitude'],\n",
      "      dtype='object')\n"
     ]
    }
   ],
   "source": [
    "# Check the column names in the DataFrame\n",
    "print(df.columns)"
   ]
  },
  {
   "cell_type": "code",
   "execution_count": 14,
   "metadata": {},
   "outputs": [
    {
     "name": "stdout",
     "output_type": "stream",
     "text": [
      "[0 0 0 0 0 0 0 0 0 0]\n"
     ]
    }
   ],
   "source": [
    "# Create a new 'Class' column based on the 'Outcome' column\n",
    "df['Class'] = df['Outcome'].apply(lambda x: 1 if 'success' in x.lower() else 0)\n",
    "\n",
    "# Convert the new 'Class' column to a NumPy array\n",
    "Y = df['Class'].to_numpy()\n",
    "\n",
    "# Display the first few elements to confirm\n",
    "print(Y[:10])"
   ]
  },
  {
   "cell_type": "code",
   "execution_count": 15,
   "metadata": {},
   "outputs": [
    {
     "name": "stdout",
     "output_type": "stream",
     "text": [
      "['None None' 'False Ocean' 'True Ocean' 'False ASDS' 'None ASDS'\n",
      " 'True RTLS' 'True ASDS' 'False RTLS']\n"
     ]
    }
   ],
   "source": [
    "# Check unique values in the 'Outcome' column\n",
    "print(df['Outcome'].unique())"
   ]
  },
  {
   "cell_type": "code",
   "execution_count": 16,
   "metadata": {},
   "outputs": [
    {
     "name": "stdout",
     "output_type": "stream",
     "text": [
      "       Outcome  landing_class\n",
      "0    None None              0\n",
      "1    None None              0\n",
      "2    None None              0\n",
      "3  False Ocean              0\n",
      "4    None None              0\n"
     ]
    }
   ],
   "source": [
    "# Create the landing_class column based on whether 'True' is in the Outcome\n",
    "df['landing_class'] = df['Outcome'].apply(lambda x: 1 if 'True' in x else 0)\n",
    "\n",
    "# Check the first few rows to confirm\n",
    "print(df[['Outcome', 'landing_class']].head())"
   ]
  },
  {
   "cell_type": "code",
   "execution_count": 17,
   "metadata": {},
   "outputs": [
    {
     "name": "stdout",
     "output_type": "stream",
     "text": [
      "[0 0 0 0 0 0 1 1 0 0]\n"
     ]
    }
   ],
   "source": [
    "# Convert the 'landing_class' column to a NumPy array and assign it to Y\n",
    "Y = df['landing_class'].to_numpy()\n",
    "\n",
    "# Display the first few elements to verify\n",
    "print(Y[:10])  # Output first 10 values for checking"
   ]
  },
  {
   "cell_type": "markdown",
   "metadata": {},
   "source": [
    "## TASK  2\n"
   ]
  },
  {
   "cell_type": "markdown",
   "metadata": {},
   "source": [
    "Standardize the data in <code>X</code> then reassign it to the variable  <code>X</code> using the transform provided below.\n"
   ]
  },
  {
   "cell_type": "code",
   "execution_count": 18,
   "metadata": {},
   "outputs": [],
   "source": [
    "# students get this \n",
    "transform = preprocessing.StandardScaler()"
   ]
  },
  {
   "cell_type": "markdown",
   "metadata": {},
   "source": [
    "We split the data into training and testing data using the  function  <code>train_test_split</code>.   The training data is divided into validation data, a second set used for training  data; then the models are trained and hyperparameters are selected using the function <code>GridSearchCV</code>.\n"
   ]
  },
  {
   "cell_type": "code",
   "execution_count": 19,
   "metadata": {},
   "outputs": [
    {
     "name": "stdout",
     "output_type": "stream",
     "text": [
      "Training features shape: (72, 1)\n",
      "Testing features shape: (18, 1)\n"
     ]
    }
   ],
   "source": [
    "import pandas as pd\n",
    "from sklearn import preprocessing\n",
    "from sklearn.model_selection import train_test_split\n",
    "\n",
    "# Select feature columns for X\n",
    "# Example: X = df[['PayloadMass', 'Orbit']]  # Replace with your actual feature columns\n",
    "X = df[['PayloadMass']]  # Modify this based on your features\n",
    "\n",
    "# Standardize the data in X\n",
    "transform = preprocessing.StandardScaler()\n",
    "X_standardized = transform.fit_transform(X)  # Standardize the features\n",
    "X = pd.DataFrame(X_standardized, columns=X.columns)  # Convert back to DataFrame if needed\n",
    "\n",
    "# Split the data into training and testing sets\n",
    "Y = df['landing_class']  # Assuming Y is already defined\n",
    "X_train, X_test, Y_train, Y_test = train_test_split(X, Y, test_size=0.2, random_state=42)\n",
    "\n",
    "# Now X_train, X_test, Y_train, Y_test are ready for training the model\n",
    "print(\"Training features shape:\", X_train.shape)\n",
    "print(\"Testing features shape:\", X_test.shape)"
   ]
  },
  {
   "cell_type": "code",
   "execution_count": 20,
   "metadata": {},
   "outputs": [
    {
     "name": "stdout",
     "output_type": "stream",
     "text": [
      "Training features shape: (72, 1)\n",
      "Testing features shape: (18, 1)\n",
      "Best Parameters: {'C': 0.1, 'solver': 'liblinear'}\n",
      "Best Cross-Validation Score: 0.6533333333333333\n"
     ]
    }
   ],
   "source": [
    "from sklearn import preprocessing\n",
    "from sklearn.model_selection import train_test_split, GridSearchCV\n",
    "from sklearn.linear_model import LogisticRegression\n",
    "\n",
    "# Step 1: Standardize the data\n",
    "transform = preprocessing.StandardScaler()\n",
    "X_standardized = transform.fit_transform(X)\n",
    "\n",
    "# Step 2: Split the data into training and testing sets\n",
    "X_train, X_test, Y_train, Y_test = train_test_split(X_standardized, Y, test_size=0.2, random_state=42)\n",
    "\n",
    "# Check shapes of training and testing data\n",
    "print(\"Training features shape:\", X_train.shape)\n",
    "print(\"Testing features shape:\", X_test.shape)\n",
    "\n",
    "# Step 3: Train a model and tune hyperparameters\n",
    "model = LogisticRegression()\n",
    "\n",
    "# Define the hyperparameter grid\n",
    "param_grid = {\n",
    "    'C': [0.01, 0.1, 1, 10, 100],  # Regularization strength\n",
    "    'solver': ['liblinear', 'lbfgs'],  # Solver options\n",
    "}\n",
    "\n",
    "# Initialize GridSearchCV\n",
    "grid_search = GridSearchCV(estimator=model, param_grid=param_grid, \n",
    "                           scoring='accuracy', cv=5, n_jobs=-1)\n",
    "\n",
    "# Fit the model\n",
    "grid_search.fit(X_train, Y_train)\n",
    "\n",
    "# Get the best parameters and score\n",
    "best_params = grid_search.best_params_\n",
    "best_score = grid_search.best_score_\n",
    "\n",
    "print(\"Best Parameters:\", best_params)\n",
    "print(\"Best Cross-Validation Score:\", best_score)"
   ]
  },
  {
   "cell_type": "markdown",
   "metadata": {},
   "source": [
    "## TASK  3\n"
   ]
  },
  {
   "cell_type": "markdown",
   "metadata": {},
   "source": [
    "Use the function train_test_split to split the data X and Y into training and test data. Set the parameter test_size to  0.2 and random_state to 2. The training data and test data should be assigned to the following labels.\n"
   ]
  },
  {
   "cell_type": "markdown",
   "metadata": {},
   "source": [
    "<code>X_train, X_test, Y_train, Y_test</code>\n"
   ]
  },
  {
   "cell_type": "code",
   "execution_count": 21,
   "metadata": {},
   "outputs": [
    {
     "name": "stdout",
     "output_type": "stream",
     "text": [
      "Training feature shape: (72, 1)\n",
      "Testing feature shape: (18, 1)\n",
      "Training target shape: (72,)\n",
      "Testing target shape: (18,)\n"
     ]
    }
   ],
   "source": [
    "from sklearn.model_selection import train_test_split\n",
    "\n",
    "# Assuming X and Y are already defined\n",
    "# X: Feature data\n",
    "# Y: Target data (landing outcomes)\n",
    "\n",
    "# Step 1: Split the data into training and testing sets\n",
    "X_train, X_test, Y_train, Y_test = train_test_split(X, Y, test_size=0.2, random_state=2)\n",
    "\n",
    "# Optional: Print shapes to verify\n",
    "print(\"Training feature shape:\", X_train.shape)\n",
    "print(\"Testing feature shape:\", X_test.shape)\n",
    "print(\"Training target shape:\", Y_train.shape)\n",
    "print(\"Testing target shape:\", Y_test.shape)"
   ]
  },
  {
   "cell_type": "markdown",
   "metadata": {},
   "source": [
    "we can see we only have 18 test samples.\n"
   ]
  },
  {
   "cell_type": "code",
   "execution_count": 22,
   "metadata": {},
   "outputs": [
    {
     "data": {
      "text/plain": [
       "(18,)"
      ]
     },
     "execution_count": 22,
     "metadata": {},
     "output_type": "execute_result"
    }
   ],
   "source": [
    "Y_test.shape"
   ]
  },
  {
   "cell_type": "markdown",
   "metadata": {},
   "source": [
    "## TASK  4\n"
   ]
  },
  {
   "cell_type": "markdown",
   "metadata": {},
   "source": [
    "Create a logistic regression object  then create a  GridSearchCV object  <code>logreg_cv</code> with cv = 10.  Fit the object to find the best parameters from the dictionary <code>parameters</code>.\n"
   ]
  },
  {
   "cell_type": "code",
   "execution_count": 23,
   "metadata": {},
   "outputs": [],
   "source": [
    "parameters ={'C':[0.01,0.1,1],\n",
    "             'penalty':['l2'],\n",
    "             'solver':['lbfgs']}"
   ]
  },
  {
   "cell_type": "code",
   "execution_count": 24,
   "metadata": {},
   "outputs": [],
   "source": [
    "parameters ={\"C\":[0.01,0.1,1],'penalty':['l2'], 'solver':['lbfgs']}# l1 lasso l2 ridge\n",
    "lr=LogisticRegression()\n"
   ]
  },
  {
   "cell_type": "markdown",
   "metadata": {},
   "source": [
    "We output the <code>GridSearchCV</code> object for logistic regression. We display the best parameters using the data attribute <code>best_params\\_</code> and the accuracy on the validation data using the data attribute <code>best_score\\_</code>.\n"
   ]
  },
  {
   "cell_type": "code",
   "execution_count": 25,
   "metadata": {},
   "outputs": [
    {
     "name": "stdout",
     "output_type": "stream",
     "text": [
      "Best Parameters: {'C': 0.01, 'penalty': 'l2', 'solver': 'lbfgs'}\n",
      "Best Cross-Validation Score: 0.6678571428571429\n"
     ]
    }
   ],
   "source": [
    "from sklearn.linear_model import LogisticRegression\n",
    "from sklearn.model_selection import GridSearchCV\n",
    "\n",
    "# Create a logistic regression object\n",
    "lr = LogisticRegression()\n",
    "\n",
    "# Define the parameter grid\n",
    "parameters = {\n",
    "    'C': [0.01, 0.1, 1],\n",
    "    'penalty': ['l2'],\n",
    "    'solver': ['lbfgs']\n",
    "}\n",
    "\n",
    "# Create the GridSearchCV object with 10-fold cross-validation\n",
    "logreg_cv = GridSearchCV(estimator=lr, param_grid=parameters, cv=10)\n",
    "\n",
    "# Fit the GridSearchCV object to the training data\n",
    "logreg_cv.fit(X_train, Y_train)\n",
    "\n",
    "# Output the best parameters and best score\n",
    "print(\"Best Parameters:\", logreg_cv.best_params_)\n",
    "print(\"Best Cross-Validation Score:\", logreg_cv.best_score_)"
   ]
  },
  {
   "cell_type": "markdown",
   "metadata": {},
   "source": [
    "## TASK  5\n"
   ]
  },
  {
   "cell_type": "markdown",
   "metadata": {},
   "source": [
    "Calculate the accuracy on the test data using the method <code>score</code>:\n"
   ]
  },
  {
   "cell_type": "code",
   "execution_count": 26,
   "metadata": {},
   "outputs": [
    {
     "name": "stdout",
     "output_type": "stream",
     "text": [
      "Accuracy on the test data: 0.6667\n"
     ]
    }
   ],
   "source": [
    "# Assuming 'logreg_cv' is your fitted GridSearchCV object\n",
    "accuracy = logreg_cv.score(X_test, Y_test)\n",
    "\n",
    "# Display the accuracy\n",
    "print(f\"Accuracy on the test data: {accuracy:.4f}\")"
   ]
  },
  {
   "cell_type": "markdown",
   "metadata": {},
   "source": [
    "Lets look at the confusion matrix:\n"
   ]
  },
  {
   "cell_type": "code",
   "execution_count": 27,
   "metadata": {},
   "outputs": [
    {
     "data": {
      "image/png": "[encoded data removed]",
      "text/plain": [
       "<Figure size 640x480 with 2 Axes>"
      ]
     },
     "metadata": {},
     "output_type": "display_data"
    }
   ],
   "source": [
    "yhat=logreg_cv.predict(X_test)\n",
    "plot_confusion_matrix(Y_test,yhat)"
   ]
  },
  {
   "cell_type": "markdown",
   "metadata": {},
   "source": [
    "Examining the confusion matrix, we see that logistic regression can distinguish between the different classes.  We see that the problem is false positives.\n",
    "\n",
    "Overview:\n",
    "\n",
    "True Postive - 12 (True label is landed, Predicted label is also landed)\n",
    "\n",
    "False Postive - 3 (True label is not landed, Predicted label is landed)\n"
   ]
  },
  {
   "cell_type": "markdown",
   "metadata": {},
   "source": [
    "## TASK  6\n"
   ]
  },
  {
   "cell_type": "markdown",
   "metadata": {},
   "source": [
    "Create a support vector machine object then  create a  <code>GridSearchCV</code> object  <code>svm_cv</code> with cv = 10.  Fit the object to find the best parameters from the dictionary <code>parameters</code>.\n"
   ]
  },
  {
   "cell_type": "code",
   "execution_count": 28,
   "metadata": {},
   "outputs": [],
   "source": [
    "parameters = {'kernel':('linear', 'rbf','poly','rbf', 'sigmoid'),\n",
    "              'C': np.logspace(-3, 3, 5),\n",
    "              'gamma':np.logspace(-3, 3, 5)}\n",
    "svm = SVC()"
   ]
  },
  {
   "cell_type": "code",
   "execution_count": 29,
   "metadata": {},
   "outputs": [
    {
     "ename": "NameError",
     "evalue": "name 'svm_cv' is not defined",
     "output_type": "error",
     "traceback": [
      "\u001b[1;31m---------------------------------------------------------------------------\u001b[0m",
      "\u001b[1;31mNameError\u001b[0m                                 Traceback (most recent call last)",
      "Cell \u001b[1;32mIn[29], line 1\u001b[0m\n\u001b[1;32m----> 1\u001b[0m \u001b[38;5;28mprint\u001b[39m(\u001b[38;5;124m\"\u001b[39m\u001b[38;5;124mtuned hpyerparameters :(best parameters) \u001b[39m\u001b[38;5;124m\"\u001b[39m,\u001b[43msvm_cv\u001b[49m\u001b[38;5;241m.\u001b[39mbest_params_)\n\u001b[0;32m      2\u001b[0m \u001b[38;5;28mprint\u001b[39m(\u001b[38;5;124m\"\u001b[39m\u001b[38;5;124maccuracy :\u001b[39m\u001b[38;5;124m\"\u001b[39m,svm_cv\u001b[38;5;241m.\u001b[39mbest_score_)\n",
      "\u001b[1;31mNameError\u001b[0m: name 'svm_cv' is not defined"
     ]
    }
   ],
   "source": [
    "print(\"tuned hpyerparameters :(best parameters) \",svm_cv.best_params_)\n",
    "print(\"accuracy :\",svm_cv.best_score_)"
   ]
  },
  {
   "cell_type": "code",
   "execution_count": 30,
   "metadata": {},
   "outputs": [
    {
     "name": "stdout",
     "output_type": "stream",
     "text": [
      "Defaulting to user installation because normal site-packages is not writeable\n",
      "Requirement already satisfied: scikit-learn in c:\\users\\christopher jones\\appdata\\roaming\\python\\python313\\site-packages (1.5.2)\n",
      "Requirement already satisfied: numpy>=1.19.5 in c:\\users\\christopher jones\\appdata\\roaming\\python\\python313\\site-packages (from scikit-learn) (2.1.2)\n",
      "Requirement already satisfied: scipy>=1.6.0 in c:\\users\\christopher jones\\appdata\\roaming\\python\\python313\\site-packages (from scikit-learn) (1.14.1)\n",
      "Requirement already satisfied: joblib>=1.2.0 in c:\\users\\christopher jones\\appdata\\roaming\\python\\python313\\site-packages (from scikit-learn) (1.4.2)\n",
      "Requirement already satisfied: threadpoolctl>=3.1.0 in c:\\users\\christopher jones\\appdata\\roaming\\python\\python313\\site-packages (from scikit-learn) (3.5.0)\n",
      "Note: you may need to restart the kernel to use updated packages.\n"
     ]
    }
   ],
   "source": [
    "pip install scikit-learn"
   ]
  },
  {
   "cell_type": "code",
   "execution_count": 31,
   "metadata": {},
   "outputs": [
    {
     "name": "stdout",
     "output_type": "stream",
     "text": [
      "X_train shape: (72, 1)\n",
      "Y_train shape: (72,)\n",
      "X_test shape: (18, 1)\n",
      "Y_test shape: (18,)\n",
      "Starting GridSearchCV fitting process...\n",
      "Fitting 10 folds for each of 50 candidates, totalling 500 fits\n",
      "[CV 1/10] END C=0.001, gamma=0.001, kernel=linear;, score=0.625 total time=   0.1s\n",
      "[CV 2/10] END C=0.001, gamma=0.001, kernel=linear;, score=0.625 total time=   0.0s\n",
      "[CV 3/10] END C=0.001, gamma=0.001, kernel=linear;, score=0.571 total time=   0.0s\n",
      "[CV 4/10] END C=0.001, gamma=0.001, kernel=linear;, score=0.571 total time=   0.0s\n",
      "[CV 5/10] END C=0.001, gamma=0.001, kernel=linear;, score=0.714 total time=   0.0s\n",
      "[CV 6/10] END C=0.001, gamma=0.001, kernel=linear;, score=0.714 total time=   0.0s\n",
      "[CV 7/10] END C=0.001, gamma=0.001, kernel=linear;, score=0.714 total time=   0.0s\n",
      "[CV 8/10] END C=0.001, gamma=0.001, kernel=linear;, score=0.714 total time=   0.0s\n",
      "[CV 9/10] END C=0.001, gamma=0.001, kernel=linear;, score=0.714 total time=   0.0s\n",
      "[CV 10/10] END C=0.001, gamma=0.001, kernel=linear;, score=0.714 total time=   0.0s\n",
      "[CV 1/10] END .C=0.001, gamma=0.001, kernel=rbf;, score=0.625 total time=   0.0s\n",
      "[CV 2/10] END .C=0.001, gamma=0.001, kernel=rbf;, score=0.625 total time=   0.0s\n",
      "[CV 3/10] END .C=0.001, gamma=0.001, kernel=rbf;, score=0.571 total time=   0.0s\n",
      "[CV 4/10] END .C=0.001, gamma=0.001, kernel=rbf;, score=0.571 total time=   0.1s\n",
      "[CV 5/10] END .C=0.001, gamma=0.001, kernel=rbf;, score=0.714 total time=   0.0s\n",
      "[CV 6/10] END .C=0.001, gamma=0.001, kernel=rbf;, score=0.714 total time=   0.1s\n",
      "[CV 7/10] END .C=0.001, gamma=0.001, kernel=rbf;, score=0.714 total time=   0.0s\n",
      "[CV 8/10] END .C=0.001, gamma=0.001, kernel=rbf;, score=0.714 total time=   0.0s\n",
      "[CV 9/10] END .C=0.001, gamma=0.001, kernel=rbf;, score=0.714 total time=   0.0s\n",
      "[CV 10/10] END C=0.001, gamma=0.001, kernel=rbf;, score=0.714 total time=   0.0s\n",
      "[CV 1/10] END C=0.001, gamma=0.03162277660168379, kernel=linear;, score=0.625 total time=   0.0s\n",
      "[CV 2/10] END C=0.001, gamma=0.03162277660168379, kernel=linear;, score=0.625 total time=   0.0s\n",
      "[CV 3/10] END C=0.001, gamma=0.03162277660168379, kernel=linear;, score=0.571 total time=   0.0s\n",
      "[CV 4/10] END C=0.001, gamma=0.03162277660168379, kernel=linear;, score=0.571 total time=   0.0s\n",
      "[CV 5/10] END C=0.001, gamma=0.03162277660168379, kernel=linear;, score=0.714 total time=   0.0s\n",
      "[CV 6/10] END C=0.001, gamma=0.03162277660168379, kernel=linear;, score=0.714 total time=   0.0s\n",
      "[CV 7/10] END C=0.001, gamma=0.03162277660168379, kernel=linear;, score=0.714 total time=   0.0s\n",
      "[CV 8/10] END C=0.001, gamma=0.03162277660168379, kernel=linear;, score=0.714 total time=   0.0s\n",
      "[CV 9/10] END C=0.001, gamma=0.03162277660168379, kernel=linear;, score=0.714 total time=   0.0s\n",
      "[CV 10/10] END C=0.001, gamma=0.03162277660168379, kernel=linear;, score=0.714 total time=   0.0s\n",
      "[CV 1/10] END C=0.001, gamma=0.03162277660168379, kernel=rbf;, score=0.625 total time=   0.0s\n",
      "[CV 2/10] END C=0.001, gamma=0.03162277660168379, kernel=rbf;, score=0.625 total time=   0.2s\n",
      "[CV 3/10] END C=0.001, gamma=0.03162277660168379, kernel=rbf;, score=0.571 total time=   0.0s\n",
      "[CV 4/10] END C=0.001, gamma=0.03162277660168379, kernel=rbf;, score=0.571 total time=   0.0s\n",
      "[CV 5/10] END C=0.001, gamma=0.03162277660168379, kernel=rbf;, score=0.714 total time=   0.0s\n",
      "[CV 6/10] END C=0.001, gamma=0.03162277660168379, kernel=rbf;, score=0.714 total time=   0.0s\n",
      "[CV 7/10] END C=0.001, gamma=0.03162277660168379, kernel=rbf;, score=0.714 total time=   0.0s\n",
      "[CV 8/10] END C=0.001, gamma=0.03162277660168379, kernel=rbf;, score=0.714 total time=   0.0s\n",
      "[CV 9/10] END C=0.001, gamma=0.03162277660168379, kernel=rbf;, score=0.714 total time=   0.0s\n",
      "[CV 10/10] END C=0.001, gamma=0.03162277660168379, kernel=rbf;, score=0.714 total time=   0.0s\n",
      "[CV 1/10] END C=0.001, gamma=1.0, kernel=linear;, score=0.625 total time=   0.0s\n",
      "[CV 2/10] END C=0.001, gamma=1.0, kernel=linear;, score=0.625 total time=   0.0s\n",
      "[CV 3/10] END C=0.001, gamma=1.0, kernel=linear;, score=0.571 total time=   0.0s\n",
      "[CV 4/10] END C=0.001, gamma=1.0, kernel=linear;, score=0.571 total time=   0.0s\n",
      "[CV 5/10] END C=0.001, gamma=1.0, kernel=linear;, score=0.714 total time=   0.3s\n",
      "[CV 6/10] END C=0.001, gamma=1.0, kernel=linear;, score=0.714 total time=   0.0s\n",
      "[CV 7/10] END C=0.001, gamma=1.0, kernel=linear;, score=0.714 total time=   0.0s\n",
      "[CV 8/10] END C=0.001, gamma=1.0, kernel=linear;, score=0.714 total time=   0.0s\n",
      "[CV 9/10] END C=0.001, gamma=1.0, kernel=linear;, score=0.714 total time=   0.0s\n",
      "[CV 10/10] END C=0.001, gamma=1.0, kernel=linear;, score=0.714 total time=   0.0s\n",
      "[CV 1/10] END ...C=0.001, gamma=1.0, kernel=rbf;, score=0.625 total time=   0.0s\n",
      "[CV 2/10] END ...C=0.001, gamma=1.0, kernel=rbf;, score=0.625 total time=   0.0s\n",
      "[CV 3/10] END ...C=0.001, gamma=1.0, kernel=rbf;, score=0.571 total time=   0.0s\n",
      "[CV 4/10] END ...C=0.001, gamma=1.0, kernel=rbf;, score=0.571 total time=   0.0s\n",
      "[CV 5/10] END ...C=0.001, gamma=1.0, kernel=rbf;, score=0.714 total time=   0.0s\n",
      "[CV 6/10] END ...C=0.001, gamma=1.0, kernel=rbf;, score=0.714 total time=   0.0s\n",
      "[CV 7/10] END ...C=0.001, gamma=1.0, kernel=rbf;, score=0.714 total time=   0.0s\n",
      "[CV 8/10] END ...C=0.001, gamma=1.0, kernel=rbf;, score=0.714 total time=   0.0s\n",
      "[CV 9/10] END ...C=0.001, gamma=1.0, kernel=rbf;, score=0.714 total time=   0.0s\n",
      "[CV 10/10] END ..C=0.001, gamma=1.0, kernel=rbf;, score=0.714 total time=   0.0s\n",
      "[CV 1/10] END C=0.001, gamma=31.622776601683793, kernel=linear;, score=0.625 total time=   0.0s\n",
      "[CV 2/10] END C=0.001, gamma=31.622776601683793, kernel=linear;, score=0.625 total time=   0.0s\n",
      "[CV 3/10] END C=0.001, gamma=31.622776601683793, kernel=linear;, score=0.571 total time=   0.0s\n",
      "[CV 4/10] END C=0.001, gamma=31.622776601683793, kernel=linear;, score=0.571 total time=   0.0s\n",
      "[CV 5/10] END C=0.001, gamma=31.622776601683793, kernel=linear;, score=0.714 total time=   0.0s\n",
      "[CV 6/10] END C=0.001, gamma=31.622776601683793, kernel=linear;, score=0.714 total time=   0.0s\n",
      "[CV 7/10] END C=0.001, gamma=31.622776601683793, kernel=linear;, score=0.714 total time=   0.0s\n",
      "[CV 8/10] END C=0.001, gamma=31.622776601683793, kernel=linear;, score=0.714 total time=   0.0s\n",
      "[CV 9/10] END C=0.001, gamma=31.622776601683793, kernel=linear;, score=0.714 total time=   0.0s\n",
      "[CV 10/10] END C=0.001, gamma=31.622776601683793, kernel=linear;, score=0.714 total time=   0.4s\n",
      "[CV 1/10] END C=0.001, gamma=31.622776601683793, kernel=rbf;, score=0.625 total time=   0.0s\n",
      "[CV 2/10] END C=0.001, gamma=31.622776601683793, kernel=rbf;, score=0.625 total time=   0.0s\n",
      "[CV 3/10] END C=0.001, gamma=31.622776601683793, kernel=rbf;, score=0.571 total time=   0.0s\n",
      "[CV 4/10] END C=0.001, gamma=31.622776601683793, kernel=rbf;, score=0.571 total time=   0.0s\n",
      "[CV 5/10] END C=0.001, gamma=31.622776601683793, kernel=rbf;, score=0.714 total time=   0.0s\n",
      "[CV 6/10] END C=0.001, gamma=31.622776601683793, kernel=rbf;, score=0.714 total time=   0.0s\n",
      "[CV 7/10] END C=0.001, gamma=31.622776601683793, kernel=rbf;, score=0.714 total time=   0.0s\n",
      "[CV 8/10] END C=0.001, gamma=31.622776601683793, kernel=rbf;, score=0.714 total time=   0.1s\n",
      "[CV 9/10] END C=0.001, gamma=31.622776601683793, kernel=rbf;, score=0.714 total time=   0.0s\n",
      "[CV 10/10] END C=0.001, gamma=31.622776601683793, kernel=rbf;, score=0.714 total time=   0.0s\n",
      "[CV 1/10] END C=0.001, gamma=1000.0, kernel=linear;, score=0.625 total time=   0.0s\n",
      "[CV 2/10] END C=0.001, gamma=1000.0, kernel=linear;, score=0.625 total time=   0.0s\n",
      "[CV 3/10] END C=0.001, gamma=1000.0, kernel=linear;, score=0.571 total time=   0.0s\n",
      "[CV 4/10] END C=0.001, gamma=1000.0, kernel=linear;, score=0.571 total time=   0.0s\n",
      "[CV 5/10] END C=0.001, gamma=1000.0, kernel=linear;, score=0.714 total time=   0.0s\n",
      "[CV 6/10] END C=0.001, gamma=1000.0, kernel=linear;, score=0.714 total time=   0.0s\n",
      "[CV 7/10] END C=0.001, gamma=1000.0, kernel=linear;, score=0.714 total time=   0.0s\n",
      "[CV 8/10] END C=0.001, gamma=1000.0, kernel=linear;, score=0.714 total time=   0.0s\n",
      "[CV 9/10] END C=0.001, gamma=1000.0, kernel=linear;, score=0.714 total time=   0.0s\n",
      "[CV 10/10] END C=0.001, gamma=1000.0, kernel=linear;, score=0.714 total time=   0.1s\n",
      "[CV 1/10] END C=0.001, gamma=1000.0, kernel=rbf;, score=0.625 total time=   0.0s\n",
      "[CV 2/10] END C=0.001, gamma=1000.0, kernel=rbf;, score=0.625 total time=   0.1s\n",
      "[CV 3/10] END C=0.001, gamma=1000.0, kernel=rbf;, score=0.571 total time=   0.0s\n",
      "[CV 4/10] END C=0.001, gamma=1000.0, kernel=rbf;, score=0.571 total time=   0.0s\n",
      "[CV 5/10] END C=0.001, gamma=1000.0, kernel=rbf;, score=0.714 total time=   0.0s\n",
      "[CV 6/10] END C=0.001, gamma=1000.0, kernel=rbf;, score=0.714 total time=   0.0s\n",
      "[CV 7/10] END C=0.001, gamma=1000.0, kernel=rbf;, score=0.714 total time=   0.0s\n",
      "[CV 8/10] END C=0.001, gamma=1000.0, kernel=rbf;, score=0.714 total time=   0.2s\n",
      "[CV 9/10] END C=0.001, gamma=1000.0, kernel=rbf;, score=0.714 total time=   0.0s\n",
      "[CV 10/10] END C=0.001, gamma=1000.0, kernel=rbf;, score=0.714 total time=   0.0s\n",
      "[CV 1/10] END C=0.03162277660168379, gamma=0.001, kernel=linear;, score=0.625 total time=   0.0s\n",
      "[CV 2/10] END C=0.03162277660168379, gamma=0.001, kernel=linear;, score=0.625 total time=   0.0s\n",
      "[CV 3/10] END C=0.03162277660168379, gamma=0.001, kernel=linear;, score=0.571 total time=   0.0s\n",
      "[CV 4/10] END C=0.03162277660168379, gamma=0.001, kernel=linear;, score=0.571 total time=   0.0s\n",
      "[CV 5/10] END C=0.03162277660168379, gamma=0.001, kernel=linear;, score=0.714 total time=   0.0s\n",
      "[CV 6/10] END C=0.03162277660168379, gamma=0.001, kernel=linear;, score=0.714 total time=   0.0s\n",
      "[CV 7/10] END C=0.03162277660168379, gamma=0.001, kernel=linear;, score=0.714 total time=   0.0s\n",
      "[CV 8/10] END C=0.03162277660168379, gamma=0.001, kernel=linear;, score=0.714 total time=   0.0s\n",
      "[CV 9/10] END C=0.03162277660168379, gamma=0.001, kernel=linear;, score=0.714 total time=   0.0s\n",
      "[CV 10/10] END C=0.03162277660168379, gamma=0.001, kernel=linear;, score=0.714 total time=   0.0s\n",
      "[CV 1/10] END C=0.03162277660168379, gamma=0.001, kernel=rbf;, score=0.625 total time=   0.0s\n",
      "[CV 2/10] END C=0.03162277660168379, gamma=0.001, kernel=rbf;, score=0.625 total time=   0.0s\n",
      "[CV 3/10] END C=0.03162277660168379, gamma=0.001, kernel=rbf;, score=0.571 total time=   0.0s\n",
      "[CV 4/10] END C=0.03162277660168379, gamma=0.001, kernel=rbf;, score=0.571 total time=   0.0s\n",
      "[CV 5/10] END C=0.03162277660168379, gamma=0.001, kernel=rbf;, score=0.714 total time=   0.0s\n",
      "[CV 6/10] END C=0.03162277660168379, gamma=0.001, kernel=rbf;, score=0.714 total time=   0.0s\n",
      "[CV 7/10] END C=0.03162277660168379, gamma=0.001, kernel=rbf;, score=0.714 total time=   0.0s\n",
      "[CV 8/10] END C=0.03162277660168379, gamma=0.001, kernel=rbf;, score=0.714 total time=   0.0s\n",
      "[CV 9/10] END C=0.03162277660168379, gamma=0.001, kernel=rbf;, score=0.714 total time=   0.0s\n",
      "[CV 10/10] END C=0.03162277660168379, gamma=0.001, kernel=rbf;, score=0.714 total time=   0.0s\n",
      "[CV 1/10] END C=0.03162277660168379, gamma=0.03162277660168379, kernel=linear;, score=0.625 total time=   0.0s\n",
      "[CV 2/10] END C=0.03162277660168379, gamma=0.03162277660168379, kernel=linear;, score=0.625 total time=   0.0s\n",
      "[CV 3/10] END C=0.03162277660168379, gamma=0.03162277660168379, kernel=linear;, score=0.571 total time=   0.0s\n",
      "[CV 4/10] END C=0.03162277660168379, gamma=0.03162277660168379, kernel=linear;, score=0.571 total time=   0.0s\n",
      "[CV 5/10] END C=0.03162277660168379, gamma=0.03162277660168379, kernel=linear;, score=0.714 total time=   0.0s\n",
      "[CV 6/10] END C=0.03162277660168379, gamma=0.03162277660168379, kernel=linear;, score=0.714 total time=   0.0s\n",
      "[CV 7/10] END C=0.03162277660168379, gamma=0.03162277660168379, kernel=linear;, score=0.714 total time=   0.0s\n",
      "[CV 8/10] END C=0.03162277660168379, gamma=0.03162277660168379, kernel=linear;, score=0.714 total time=   0.0s\n",
      "[CV 9/10] END C=0.03162277660168379, gamma=0.03162277660168379, kernel=linear;, score=0.714 total time=   0.0s\n",
      "[CV 10/10] END C=0.03162277660168379, gamma=0.03162277660168379, kernel=linear;, score=0.714 total time=   0.0s\n",
      "[CV 1/10] END C=0.03162277660168379, gamma=0.03162277660168379, kernel=rbf;, score=0.625 total time=   0.0s\n",
      "[CV 2/10] END C=0.03162277660168379, gamma=0.03162277660168379, kernel=rbf;, score=0.625 total time=   0.0s\n",
      "[CV 3/10] END C=0.03162277660168379, gamma=0.03162277660168379, kernel=rbf;, score=0.571 total time=   0.0s\n",
      "[CV 4/10] END C=0.03162277660168379, gamma=0.03162277660168379, kernel=rbf;, score=0.571 total time=   0.0s\n",
      "[CV 5/10] END C=0.03162277660168379, gamma=0.03162277660168379, kernel=rbf;, score=0.714 total time=   0.0s\n",
      "[CV 6/10] END C=0.03162277660168379, gamma=0.03162277660168379, kernel=rbf;, score=0.714 total time=   0.0s\n",
      "[CV 7/10] END C=0.03162277660168379, gamma=0.03162277660168379, kernel=rbf;, score=0.714 total time=   0.0s\n",
      "[CV 8/10] END C=0.03162277660168379, gamma=0.03162277660168379, kernel=rbf;, score=0.714 total time=   0.0s\n",
      "[CV 9/10] END C=0.03162277660168379, gamma=0.03162277660168379, kernel=rbf;, score=0.714 total time=   0.0s\n",
      "[CV 10/10] END C=0.03162277660168379, gamma=0.03162277660168379, kernel=rbf;, score=0.714 total time=   0.0s\n",
      "[CV 1/10] END C=0.03162277660168379, gamma=1.0, kernel=linear;, score=0.625 total time=   0.2s\n",
      "[CV 2/10] END C=0.03162277660168379, gamma=1.0, kernel=linear;, score=0.625 total time=   0.2s\n",
      "[CV 3/10] END C=0.03162277660168379, gamma=1.0, kernel=linear;, score=0.571 total time=   0.0s\n",
      "[CV 4/10] END C=0.03162277660168379, gamma=1.0, kernel=linear;, score=0.571 total time=   0.0s\n",
      "[CV 5/10] END C=0.03162277660168379, gamma=1.0, kernel=linear;, score=0.714 total time=   0.0s\n",
      "[CV 6/10] END C=0.03162277660168379, gamma=1.0, kernel=linear;, score=0.714 total time=   0.0s\n",
      "[CV 7/10] END C=0.03162277660168379, gamma=1.0, kernel=linear;, score=0.714 total time=   0.0s\n",
      "[CV 8/10] END C=0.03162277660168379, gamma=1.0, kernel=linear;, score=0.714 total time=   0.0s\n",
      "[CV 9/10] END C=0.03162277660168379, gamma=1.0, kernel=linear;, score=0.714 total time=   0.0s\n",
      "[CV 10/10] END C=0.03162277660168379, gamma=1.0, kernel=linear;, score=0.714 total time=   0.0s\n",
      "[CV 1/10] END C=0.03162277660168379, gamma=1.0, kernel=rbf;, score=0.625 total time=   0.0s\n",
      "[CV 2/10] END C=0.03162277660168379, gamma=1.0, kernel=rbf;, score=0.625 total time=   0.0s\n",
      "[CV 3/10] END C=0.03162277660168379, gamma=1.0, kernel=rbf;, score=0.571 total time=   0.0s\n",
      "[CV 4/10] END C=0.03162277660168379, gamma=1.0, kernel=rbf;, score=0.571 total time=   0.0s\n",
      "[CV 5/10] END C=0.03162277660168379, gamma=1.0, kernel=rbf;, score=0.714 total time=   0.0s\n",
      "[CV 6/10] END C=0.03162277660168379, gamma=1.0, kernel=rbf;, score=0.714 total time=   0.0s\n",
      "[CV 7/10] END C=0.03162277660168379, gamma=1.0, kernel=rbf;, score=0.714 total time=   0.0s\n",
      "[CV 8/10] END C=0.03162277660168379, gamma=1.0, kernel=rbf;, score=0.714 total time=   0.0s\n",
      "[CV 9/10] END C=0.03162277660168379, gamma=1.0, kernel=rbf;, score=0.714 total time=   0.0s\n",
      "[CV 10/10] END C=0.03162277660168379, gamma=1.0, kernel=rbf;, score=0.714 total time=   0.0s\n",
      "[CV 1/10] END C=0.03162277660168379, gamma=31.622776601683793, kernel=linear;, score=0.625 total time=   0.0s\n",
      "[CV 2/10] END C=0.03162277660168379, gamma=31.622776601683793, kernel=linear;, score=0.625 total time=   0.0s\n",
      "[CV 3/10] END C=0.03162277660168379, gamma=31.622776601683793, kernel=linear;, score=0.571 total time=   0.0s\n",
      "[CV 4/10] END C=0.03162277660168379, gamma=31.622776601683793, kernel=linear;, score=0.571 total time=   0.0s\n",
      "[CV 5/10] END C=0.03162277660168379, gamma=31.622776601683793, kernel=linear;, score=0.714 total time=   0.0s\n",
      "[CV 6/10] END C=0.03162277660168379, gamma=31.622776601683793, kernel=linear;, score=0.714 total time=   0.2s\n",
      "[CV 7/10] END C=0.03162277660168379, gamma=31.622776601683793, kernel=linear;, score=0.714 total time=   0.0s\n",
      "[CV 8/10] END C=0.03162277660168379, gamma=31.622776601683793, kernel=linear;, score=0.714 total time=   0.0s\n",
      "[CV 9/10] END C=0.03162277660168379, gamma=31.622776601683793, kernel=linear;, score=0.714 total time=   0.0s\n",
      "[CV 10/10] END C=0.03162277660168379, gamma=31.622776601683793, kernel=linear;, score=0.714 total time=   0.0s\n",
      "[CV 1/10] END C=0.03162277660168379, gamma=31.622776601683793, kernel=rbf;, score=0.625 total time=   0.0s\n",
      "[CV 2/10] END C=0.03162277660168379, gamma=31.622776601683793, kernel=rbf;, score=0.625 total time=   0.0s\n",
      "[CV 3/10] END C=0.03162277660168379, gamma=31.622776601683793, kernel=rbf;, score=0.571 total time=   0.0s\n",
      "[CV 4/10] END C=0.03162277660168379, gamma=31.622776601683793, kernel=rbf;, score=0.571 total time=   0.0s\n",
      "[CV 5/10] END C=0.03162277660168379, gamma=31.622776601683793, kernel=rbf;, score=0.714 total time=   0.0s\n",
      "[CV 6/10] END C=0.03162277660168379, gamma=31.622776601683793, kernel=rbf;, score=0.714 total time=   0.0s\n",
      "[CV 7/10] END C=0.03162277660168379, gamma=31.622776601683793, kernel=rbf;, score=0.714 total time=   0.0s\n",
      "[CV 8/10] END C=0.03162277660168379, gamma=31.622776601683793, kernel=rbf;, score=0.714 total time=   0.0s\n",
      "[CV 9/10] END C=0.03162277660168379, gamma=31.622776601683793, kernel=rbf;, score=0.714 total time=   0.0s\n",
      "[CV 10/10] END C=0.03162277660168379, gamma=31.622776601683793, kernel=rbf;, score=0.714 total time=   0.0s\n",
      "[CV 1/10] END C=0.03162277660168379, gamma=1000.0, kernel=linear;, score=0.625 total time=   0.0s\n",
      "[CV 2/10] END C=0.03162277660168379, gamma=1000.0, kernel=linear;, score=0.625 total time=   0.0s\n",
      "[CV 3/10] END C=0.03162277660168379, gamma=1000.0, kernel=linear;, score=0.571 total time=   0.0s\n",
      "[CV 4/10] END C=0.03162277660168379, gamma=1000.0, kernel=linear;, score=0.571 total time=   0.0s\n",
      "[CV 5/10] END C=0.03162277660168379, gamma=1000.0, kernel=linear;, score=0.714 total time=   0.0s\n",
      "[CV 6/10] END C=0.03162277660168379, gamma=1000.0, kernel=linear;, score=0.714 total time=   0.0s\n",
      "[CV 7/10] END C=0.03162277660168379, gamma=1000.0, kernel=linear;, score=0.714 total time=   0.0s\n",
      "[CV 8/10] END C=0.03162277660168379, gamma=1000.0, kernel=linear;, score=0.714 total time=   0.0s\n",
      "[CV 9/10] END C=0.03162277660168379, gamma=1000.0, kernel=linear;, score=0.714 total time=   0.0s\n",
      "[CV 10/10] END C=0.03162277660168379, gamma=1000.0, kernel=linear;, score=0.714 total time=   0.0s\n",
      "[CV 1/10] END C=0.03162277660168379, gamma=1000.0, kernel=rbf;, score=0.625 total time=   0.0s\n",
      "[CV 2/10] END C=0.03162277660168379, gamma=1000.0, kernel=rbf;, score=0.625 total time=   0.0s\n",
      "[CV 3/10] END C=0.03162277660168379, gamma=1000.0, kernel=rbf;, score=0.571 total time=   0.0s\n",
      "[CV 4/10] END C=0.03162277660168379, gamma=1000.0, kernel=rbf;, score=0.571 total time=   0.0s\n",
      "[CV 5/10] END C=0.03162277660168379, gamma=1000.0, kernel=rbf;, score=0.714 total time=   0.0s\n",
      "[CV 6/10] END C=0.03162277660168379, gamma=1000.0, kernel=rbf;, score=0.714 total time=   0.0s\n",
      "[CV 7/10] END C=0.03162277660168379, gamma=1000.0, kernel=rbf;, score=0.714 total time=   0.0s\n",
      "[CV 8/10] END C=0.03162277660168379, gamma=1000.0, kernel=rbf;, score=0.714 total time=   0.0s\n",
      "[CV 9/10] END C=0.03162277660168379, gamma=1000.0, kernel=rbf;, score=0.714 total time=   0.0s\n",
      "[CV 10/10] END C=0.03162277660168379, gamma=1000.0, kernel=rbf;, score=0.714 total time=   0.0s\n",
      "[CV 1/10] END C=1.0, gamma=0.001, kernel=linear;, score=0.625 total time=   0.0s\n",
      "[CV 2/10] END C=1.0, gamma=0.001, kernel=linear;, score=0.625 total time=   0.0s\n",
      "[CV 3/10] END C=1.0, gamma=0.001, kernel=linear;, score=0.571 total time=   0.0s\n",
      "[CV 4/10] END C=1.0, gamma=0.001, kernel=linear;, score=0.571 total time=   0.0s\n",
      "[CV 5/10] END C=1.0, gamma=0.001, kernel=linear;, score=0.714 total time=   0.0s\n",
      "[CV 6/10] END C=1.0, gamma=0.001, kernel=linear;, score=0.714 total time=   0.0s\n",
      "[CV 7/10] END C=1.0, gamma=0.001, kernel=linear;, score=0.714 total time=   0.0s\n",
      "[CV 8/10] END C=1.0, gamma=0.001, kernel=linear;, score=0.714 total time=   0.0s\n",
      "[CV 9/10] END C=1.0, gamma=0.001, kernel=linear;, score=0.714 total time=   0.0s\n",
      "[CV 10/10] END C=1.0, gamma=0.001, kernel=linear;, score=0.714 total time=   0.0s\n",
      "[CV 1/10] END ...C=1.0, gamma=0.001, kernel=rbf;, score=0.625 total time=   0.0s\n",
      "[CV 2/10] END ...C=1.0, gamma=0.001, kernel=rbf;, score=0.625 total time=   0.0s\n",
      "[CV 3/10] END ...C=1.0, gamma=0.001, kernel=rbf;, score=0.571 total time=   0.0s\n",
      "[CV 4/10] END ...C=1.0, gamma=0.001, kernel=rbf;, score=0.571 total time=   0.0s\n",
      "[CV 5/10] END ...C=1.0, gamma=0.001, kernel=rbf;, score=0.714 total time=   0.0s\n",
      "[CV 6/10] END ...C=1.0, gamma=0.001, kernel=rbf;, score=0.714 total time=   0.0s\n",
      "[CV 7/10] END ...C=1.0, gamma=0.001, kernel=rbf;, score=0.714 total time=   0.0s\n",
      "[CV 8/10] END ...C=1.0, gamma=0.001, kernel=rbf;, score=0.714 total time=   0.0s\n",
      "[CV 9/10] END ...C=1.0, gamma=0.001, kernel=rbf;, score=0.714 total time=   0.0s\n",
      "[CV 10/10] END ..C=1.0, gamma=0.001, kernel=rbf;, score=0.714 total time=   0.0s\n",
      "[CV 1/10] END C=1.0, gamma=0.03162277660168379, kernel=linear;, score=0.625 total time=   0.0s\n",
      "[CV 2/10] END C=1.0, gamma=0.03162277660168379, kernel=linear;, score=0.625 total time=   0.0s\n",
      "[CV 3/10] END C=1.0, gamma=0.03162277660168379, kernel=linear;, score=0.571 total time=   0.0s\n",
      "[CV 4/10] END C=1.0, gamma=0.03162277660168379, kernel=linear;, score=0.571 total time=   0.0s\n",
      "[CV 5/10] END C=1.0, gamma=0.03162277660168379, kernel=linear;, score=0.714 total time=   0.0s\n",
      "[CV 6/10] END C=1.0, gamma=0.03162277660168379, kernel=linear;, score=0.714 total time=   0.0s\n",
      "[CV 7/10] END C=1.0, gamma=0.03162277660168379, kernel=linear;, score=0.714 total time=   0.0s\n",
      "[CV 8/10] END C=1.0, gamma=0.03162277660168379, kernel=linear;, score=0.714 total time=   0.0s\n",
      "[CV 9/10] END C=1.0, gamma=0.03162277660168379, kernel=linear;, score=0.714 total time=   0.0s\n",
      "[CV 10/10] END C=1.0, gamma=0.03162277660168379, kernel=linear;, score=0.714 total time=   0.0s\n",
      "[CV 1/10] END C=1.0, gamma=0.03162277660168379, kernel=rbf;, score=0.625 total time=   0.0s\n",
      "[CV 2/10] END C=1.0, gamma=0.03162277660168379, kernel=rbf;, score=0.625 total time=   0.0s\n",
      "[CV 3/10] END C=1.0, gamma=0.03162277660168379, kernel=rbf;, score=0.571 total time=   0.0s\n",
      "[CV 4/10] END C=1.0, gamma=0.03162277660168379, kernel=rbf;, score=0.571 total time=   0.0s\n",
      "[CV 5/10] END C=1.0, gamma=0.03162277660168379, kernel=rbf;, score=0.714 total time=   0.0s\n",
      "[CV 6/10] END C=1.0, gamma=0.03162277660168379, kernel=rbf;, score=0.714 total time=   0.0s\n",
      "[CV 7/10] END C=1.0, gamma=0.03162277660168379, kernel=rbf;, score=0.714 total time=   0.0s\n",
      "[CV 8/10] END C=1.0, gamma=0.03162277660168379, kernel=rbf;, score=0.714 total time=   0.0s\n",
      "[CV 9/10] END C=1.0, gamma=0.03162277660168379, kernel=rbf;, score=0.714 total time=   0.0s\n",
      "[CV 10/10] END C=1.0, gamma=0.03162277660168379, kernel=rbf;, score=0.714 total time=   0.0s\n",
      "[CV 1/10] END ..C=1.0, gamma=1.0, kernel=linear;, score=0.625 total time=   0.0s\n",
      "[CV 2/10] END ..C=1.0, gamma=1.0, kernel=linear;, score=0.625 total time=   0.0s\n",
      "[CV 3/10] END ..C=1.0, gamma=1.0, kernel=linear;, score=0.571 total time=   0.0s\n",
      "[CV 4/10] END ..C=1.0, gamma=1.0, kernel=linear;, score=0.571 total time=   0.0s\n",
      "[CV 5/10] END ..C=1.0, gamma=1.0, kernel=linear;, score=0.714 total time=   0.0s\n",
      "[CV 6/10] END ..C=1.0, gamma=1.0, kernel=linear;, score=0.714 total time=   0.0s\n",
      "[CV 7/10] END ..C=1.0, gamma=1.0, kernel=linear;, score=0.714 total time=   0.0s\n",
      "[CV 8/10] END ..C=1.0, gamma=1.0, kernel=linear;, score=0.714 total time=   0.0s\n",
      "[CV 9/10] END ..C=1.0, gamma=1.0, kernel=linear;, score=0.714 total time=   0.0s\n",
      "[CV 10/10] END .C=1.0, gamma=1.0, kernel=linear;, score=0.714 total time=   0.0s\n",
      "[CV 1/10] END .....C=1.0, gamma=1.0, kernel=rbf;, score=0.625 total time=   0.0s\n",
      "[CV 2/10] END .....C=1.0, gamma=1.0, kernel=rbf;, score=0.625 total time=   0.0s\n",
      "[CV 3/10] END .....C=1.0, gamma=1.0, kernel=rbf;, score=0.571 total time=   0.0s\n",
      "[CV 4/10] END .....C=1.0, gamma=1.0, kernel=rbf;, score=0.571 total time=   0.0s\n",
      "[CV 5/10] END .....C=1.0, gamma=1.0, kernel=rbf;, score=0.714 total time=   0.0s\n",
      "[CV 6/10] END .....C=1.0, gamma=1.0, kernel=rbf;, score=0.714 total time=   0.0s\n",
      "[CV 7/10] END .....C=1.0, gamma=1.0, kernel=rbf;, score=0.714 total time=   0.0s\n",
      "[CV 8/10] END .....C=1.0, gamma=1.0, kernel=rbf;, score=0.714 total time=   0.0s\n",
      "[CV 9/10] END .....C=1.0, gamma=1.0, kernel=rbf;, score=0.714 total time=   0.0s\n",
      "[CV 10/10] END ....C=1.0, gamma=1.0, kernel=rbf;, score=0.714 total time=   0.0s\n",
      "[CV 1/10] END C=1.0, gamma=31.622776601683793, kernel=linear;, score=0.625 total time=   0.0s\n",
      "[CV 2/10] END C=1.0, gamma=31.622776601683793, kernel=linear;, score=0.625 total time=   0.0s\n",
      "[CV 3/10] END C=1.0, gamma=31.622776601683793, kernel=linear;, score=0.571 total time=   0.0s\n",
      "[CV 4/10] END C=1.0, gamma=31.622776601683793, kernel=linear;, score=0.571 total time=   0.0s\n",
      "[CV 5/10] END C=1.0, gamma=31.622776601683793, kernel=linear;, score=0.714 total time=   0.0s\n",
      "[CV 6/10] END C=1.0, gamma=31.622776601683793, kernel=linear;, score=0.714 total time=   0.0s\n",
      "[CV 7/10] END C=1.0, gamma=31.622776601683793, kernel=linear;, score=0.714 total time=   0.0s\n",
      "[CV 8/10] END C=1.0, gamma=31.622776601683793, kernel=linear;, score=0.714 total time=   0.0s\n",
      "[CV 9/10] END C=1.0, gamma=31.622776601683793, kernel=linear;, score=0.714 total time=   0.0s\n",
      "[CV 10/10] END C=1.0, gamma=31.622776601683793, kernel=linear;, score=0.714 total time=   0.0s\n",
      "[CV 1/10] END C=1.0, gamma=31.622776601683793, kernel=rbf;, score=0.625 total time=   0.0s\n",
      "[CV 2/10] END C=1.0, gamma=31.622776601683793, kernel=rbf;, score=0.625 total time=   0.0s\n",
      "[CV 3/10] END C=1.0, gamma=31.622776601683793, kernel=rbf;, score=0.571 total time=   0.0s\n",
      "[CV 4/10] END C=1.0, gamma=31.622776601683793, kernel=rbf;, score=0.571 total time=   0.0s\n",
      "[CV 5/10] END C=1.0, gamma=31.622776601683793, kernel=rbf;, score=0.714 total time=   0.0s\n",
      "[CV 6/10] END C=1.0, gamma=31.622776601683793, kernel=rbf;, score=0.714 total time=   0.0s\n",
      "[CV 7/10] END C=1.0, gamma=31.622776601683793, kernel=rbf;, score=0.714 total time=   0.0s\n",
      "[CV 8/10] END C=1.0, gamma=31.622776601683793, kernel=rbf;, score=0.286 total time=   0.0s\n",
      "[CV 9/10] END C=1.0, gamma=31.622776601683793, kernel=rbf;, score=0.714 total time=   0.0s\n",
      "[CV 10/10] END C=1.0, gamma=31.622776601683793, kernel=rbf;, score=0.571 total time=   0.0s\n",
      "[CV 1/10] END C=1.0, gamma=1000.0, kernel=linear;, score=0.625 total time=   0.0s\n",
      "[CV 2/10] END C=1.0, gamma=1000.0, kernel=linear;, score=0.625 total time=   0.0s\n",
      "[CV 3/10] END C=1.0, gamma=1000.0, kernel=linear;, score=0.571 total time=   0.0s\n",
      "[CV 4/10] END C=1.0, gamma=1000.0, kernel=linear;, score=0.571 total time=   0.0s\n",
      "[CV 5/10] END C=1.0, gamma=1000.0, kernel=linear;, score=0.714 total time=   0.0s\n",
      "[CV 6/10] END C=1.0, gamma=1000.0, kernel=linear;, score=0.714 total time=   0.0s\n",
      "[CV 7/10] END C=1.0, gamma=1000.0, kernel=linear;, score=0.714 total time=   0.0s\n",
      "[CV 8/10] END C=1.0, gamma=1000.0, kernel=linear;, score=0.714 total time=   0.0s\n",
      "[CV 9/10] END C=1.0, gamma=1000.0, kernel=linear;, score=0.714 total time=   0.0s\n",
      "[CV 10/10] END C=1.0, gamma=1000.0, kernel=linear;, score=0.714 total time=   0.0s\n",
      "[CV 1/10] END ..C=1.0, gamma=1000.0, kernel=rbf;, score=0.750 total time=   0.0s\n",
      "[CV 2/10] END ..C=1.0, gamma=1000.0, kernel=rbf;, score=0.625 total time=   0.0s\n",
      "[CV 3/10] END ..C=1.0, gamma=1000.0, kernel=rbf;, score=0.571 total time=   0.0s\n",
      "[CV 4/10] END ..C=1.0, gamma=1000.0, kernel=rbf;, score=0.714 total time=   0.0s\n",
      "[CV 5/10] END ..C=1.0, gamma=1000.0, kernel=rbf;, score=1.000 total time=   0.0s\n",
      "[CV 6/10] END ..C=1.0, gamma=1000.0, kernel=rbf;, score=0.571 total time=   0.0s\n",
      "[CV 7/10] END ..C=1.0, gamma=1000.0, kernel=rbf;, score=0.714 total time=   0.0s\n",
      "[CV 8/10] END ..C=1.0, gamma=1000.0, kernel=rbf;, score=0.571 total time=   0.0s\n",
      "[CV 9/10] END ..C=1.0, gamma=1000.0, kernel=rbf;, score=0.571 total time=   0.0s\n",
      "[CV 10/10] END .C=1.0, gamma=1000.0, kernel=rbf;, score=0.571 total time=   0.0s\n",
      "[CV 1/10] END C=31.622776601683793, gamma=0.001, kernel=linear;, score=0.625 total time=   0.0s\n",
      "[CV 2/10] END C=31.622776601683793, gamma=0.001, kernel=linear;, score=0.625 total time=   0.0s\n",
      "[CV 3/10] END C=31.622776601683793, gamma=0.001, kernel=linear;, score=0.571 total time=   0.0s\n",
      "[CV 4/10] END C=31.622776601683793, gamma=0.001, kernel=linear;, score=0.571 total time=   0.0s\n",
      "[CV 5/10] END C=31.622776601683793, gamma=0.001, kernel=linear;, score=0.714 total time=   0.0s\n",
      "[CV 6/10] END C=31.622776601683793, gamma=0.001, kernel=linear;, score=0.714 total time=   0.0s\n",
      "[CV 7/10] END C=31.622776601683793, gamma=0.001, kernel=linear;, score=0.714 total time=   0.0s\n",
      "[CV 8/10] END C=31.622776601683793, gamma=0.001, kernel=linear;, score=0.714 total time=   0.0s\n",
      "[CV 9/10] END C=31.622776601683793, gamma=0.001, kernel=linear;, score=0.714 total time=   0.0s\n",
      "[CV 10/10] END C=31.622776601683793, gamma=0.001, kernel=linear;, score=0.714 total time=   0.0s\n",
      "[CV 1/10] END C=31.622776601683793, gamma=0.001, kernel=rbf;, score=0.625 total time=   0.0s\n",
      "[CV 2/10] END C=31.622776601683793, gamma=0.001, kernel=rbf;, score=0.625 total time=   0.0s\n",
      "[CV 3/10] END C=31.622776601683793, gamma=0.001, kernel=rbf;, score=0.571 total time=   0.0s\n",
      "[CV 4/10] END C=31.622776601683793, gamma=0.001, kernel=rbf;, score=0.571 total time=   0.0s\n",
      "[CV 5/10] END C=31.622776601683793, gamma=0.001, kernel=rbf;, score=0.714 total time=   0.0s\n",
      "[CV 6/10] END C=31.622776601683793, gamma=0.001, kernel=rbf;, score=0.714 total time=   0.0s\n",
      "[CV 7/10] END C=31.622776601683793, gamma=0.001, kernel=rbf;, score=0.714 total time=   0.0s\n",
      "[CV 8/10] END C=31.622776601683793, gamma=0.001, kernel=rbf;, score=0.714 total time=   0.0s\n",
      "[CV 9/10] END C=31.622776601683793, gamma=0.001, kernel=rbf;, score=0.714 total time=   0.0s\n",
      "[CV 10/10] END C=31.622776601683793, gamma=0.001, kernel=rbf;, score=0.714 total time=   0.0s\n",
      "[CV 1/10] END C=31.622776601683793, gamma=0.03162277660168379, kernel=linear;, score=0.625 total time=   0.0s\n",
      "[CV 2/10] END C=31.622776601683793, gamma=0.03162277660168379, kernel=linear;, score=0.625 total time=   0.0s\n",
      "[CV 3/10] END C=31.622776601683793, gamma=0.03162277660168379, kernel=linear;, score=0.571 total time=   0.0s\n",
      "[CV 4/10] END C=31.622776601683793, gamma=0.03162277660168379, kernel=linear;, score=0.571 total time=   0.0s\n",
      "[CV 5/10] END C=31.622776601683793, gamma=0.03162277660168379, kernel=linear;, score=0.714 total time=   0.0s\n",
      "[CV 6/10] END C=31.622776601683793, gamma=0.03162277660168379, kernel=linear;, score=0.714 total time=   0.0s\n",
      "[CV 7/10] END C=31.622776601683793, gamma=0.03162277660168379, kernel=linear;, score=0.714 total time=   0.0s\n",
      "[CV 8/10] END C=31.622776601683793, gamma=0.03162277660168379, kernel=linear;, score=0.714 total time=   0.0s\n",
      "[CV 9/10] END C=31.622776601683793, gamma=0.03162277660168379, kernel=linear;, score=0.714 total time=   0.0s\n",
      "[CV 10/10] END C=31.622776601683793, gamma=0.03162277660168379, kernel=linear;, score=0.714 total time=   0.0s\n",
      "[CV 1/10] END C=31.622776601683793, gamma=0.03162277660168379, kernel=rbf;, score=0.625 total time=   0.0s\n",
      "[CV 2/10] END C=31.622776601683793, gamma=0.03162277660168379, kernel=rbf;, score=0.625 total time=   0.0s\n",
      "[CV 3/10] END C=31.622776601683793, gamma=0.03162277660168379, kernel=rbf;, score=0.571 total time=   0.0s\n",
      "[CV 4/10] END C=31.622776601683793, gamma=0.03162277660168379, kernel=rbf;, score=0.571 total time=   0.0s\n",
      "[CV 5/10] END C=31.622776601683793, gamma=0.03162277660168379, kernel=rbf;, score=0.714 total time=   0.0s\n",
      "[CV 6/10] END C=31.622776601683793, gamma=0.03162277660168379, kernel=rbf;, score=0.714 total time=   0.0s\n",
      "[CV 7/10] END C=31.622776601683793, gamma=0.03162277660168379, kernel=rbf;, score=0.714 total time=   0.0s\n",
      "[CV 8/10] END C=31.622776601683793, gamma=0.03162277660168379, kernel=rbf;, score=0.714 total time=   0.0s\n",
      "[CV 9/10] END C=31.622776601683793, gamma=0.03162277660168379, kernel=rbf;, score=0.714 total time=   0.0s\n",
      "[CV 10/10] END C=31.622776601683793, gamma=0.03162277660168379, kernel=rbf;, score=0.714 total time=   0.0s\n",
      "[CV 1/10] END C=31.622776601683793, gamma=1.0, kernel=linear;, score=0.625 total time=   0.0s\n",
      "[CV 2/10] END C=31.622776601683793, gamma=1.0, kernel=linear;, score=0.625 total time=   0.0s\n",
      "[CV 3/10] END C=31.622776601683793, gamma=1.0, kernel=linear;, score=0.571 total time=   0.0s\n",
      "[CV 4/10] END C=31.622776601683793, gamma=1.0, kernel=linear;, score=0.571 total time=   0.0s\n",
      "[CV 5/10] END C=31.622776601683793, gamma=1.0, kernel=linear;, score=0.714 total time=   0.0s\n",
      "[CV 6/10] END C=31.622776601683793, gamma=1.0, kernel=linear;, score=0.714 total time=   0.0s\n",
      "[CV 7/10] END C=31.622776601683793, gamma=1.0, kernel=linear;, score=0.714 total time=   0.0s\n",
      "[CV 8/10] END C=31.622776601683793, gamma=1.0, kernel=linear;, score=0.714 total time=   0.0s\n",
      "[CV 9/10] END C=31.622776601683793, gamma=1.0, kernel=linear;, score=0.714 total time=   0.0s\n",
      "[CV 10/10] END C=31.622776601683793, gamma=1.0, kernel=linear;, score=0.714 total time=   0.0s\n",
      "[CV 1/10] END C=31.622776601683793, gamma=1.0, kernel=rbf;, score=0.625 total time=   0.0s\n",
      "[CV 2/10] END C=31.622776601683793, gamma=1.0, kernel=rbf;, score=0.625 total time=   0.0s\n",
      "[CV 3/10] END C=31.622776601683793, gamma=1.0, kernel=rbf;, score=0.571 total time=   0.0s\n",
      "[CV 4/10] END C=31.622776601683793, gamma=1.0, kernel=rbf;, score=0.571 total time=   0.0s\n",
      "[CV 5/10] END C=31.622776601683793, gamma=1.0, kernel=rbf;, score=0.429 total time=   0.0s\n",
      "[CV 6/10] END C=31.622776601683793, gamma=1.0, kernel=rbf;, score=0.714 total time=   0.0s\n",
      "[CV 7/10] END C=31.622776601683793, gamma=1.0, kernel=rbf;, score=0.571 total time=   0.0s\n",
      "[CV 8/10] END C=31.622776601683793, gamma=1.0, kernel=rbf;, score=0.714 total time=   0.0s\n",
      "[CV 9/10] END C=31.622776601683793, gamma=1.0, kernel=rbf;, score=0.714 total time=   0.0s\n",
      "[CV 10/10] END C=31.622776601683793, gamma=1.0, kernel=rbf;, score=0.571 total time=   0.0s\n",
      "[CV 1/10] END C=31.622776601683793, gamma=31.622776601683793, kernel=linear;, score=0.625 total time=   0.0s\n",
      "[CV 2/10] END C=31.622776601683793, gamma=31.622776601683793, kernel=linear;, score=0.625 total time=   0.0s\n",
      "[CV 3/10] END C=31.622776601683793, gamma=31.622776601683793, kernel=linear;, score=0.571 total time=   0.0s\n",
      "[CV 4/10] END C=31.622776601683793, gamma=31.622776601683793, kernel=linear;, score=0.571 total time=   0.0s\n",
      "[CV 5/10] END C=31.622776601683793, gamma=31.622776601683793, kernel=linear;, score=0.714 total time=   0.0s\n",
      "[CV 6/10] END C=31.622776601683793, gamma=31.622776601683793, kernel=linear;, score=0.714 total time=   0.0s\n",
      "[CV 7/10] END C=31.622776601683793, gamma=31.622776601683793, kernel=linear;, score=0.714 total time=   0.0s\n",
      "[CV 8/10] END C=31.622776601683793, gamma=31.622776601683793, kernel=linear;, score=0.714 total time=   0.0s\n",
      "[CV 9/10] END C=31.622776601683793, gamma=31.622776601683793, kernel=linear;, score=0.714 total time=   0.0s\n",
      "[CV 10/10] END C=31.622776601683793, gamma=31.622776601683793, kernel=linear;, score=0.714 total time=   0.0s\n",
      "[CV 1/10] END C=31.622776601683793, gamma=31.622776601683793, kernel=rbf;, score=0.500 total time=   0.0s\n",
      "[CV 2/10] END C=31.622776601683793, gamma=31.622776601683793, kernel=rbf;, score=0.625 total time=   0.0s\n",
      "[CV 3/10] END C=31.622776601683793, gamma=31.622776601683793, kernel=rbf;, score=0.571 total time=   0.0s\n",
      "[CV 4/10] END C=31.622776601683793, gamma=31.622776601683793, kernel=rbf;, score=0.714 total time=   0.0s\n",
      "[CV 5/10] END C=31.622776601683793, gamma=31.622776601683793, kernel=rbf;, score=0.714 total time=   0.0s\n",
      "[CV 6/10] END C=31.622776601683793, gamma=31.622776601683793, kernel=rbf;, score=0.714 total time=   0.0s\n",
      "[CV 7/10] END C=31.622776601683793, gamma=31.622776601683793, kernel=rbf;, score=0.571 total time=   0.0s\n",
      "[CV 8/10] END C=31.622776601683793, gamma=31.622776601683793, kernel=rbf;, score=0.286 total time=   0.0s\n",
      "[CV 9/10] END C=31.622776601683793, gamma=31.622776601683793, kernel=rbf;, score=0.714 total time=   0.0s\n",
      "[CV 10/10] END C=31.622776601683793, gamma=31.622776601683793, kernel=rbf;, score=0.571 total time=   0.0s\n",
      "[CV 1/10] END C=31.622776601683793, gamma=1000.0, kernel=linear;, score=0.625 total time=   0.0s\n",
      "[CV 2/10] END C=31.622776601683793, gamma=1000.0, kernel=linear;, score=0.625 total time=   0.0s\n",
      "[CV 3/10] END C=31.622776601683793, gamma=1000.0, kernel=linear;, score=0.571 total time=   0.0s\n",
      "[CV 4/10] END C=31.622776601683793, gamma=1000.0, kernel=linear;, score=0.571 total time=   0.0s\n",
      "[CV 5/10] END C=31.622776601683793, gamma=1000.0, kernel=linear;, score=0.714 total time=   0.0s\n",
      "[CV 6/10] END C=31.622776601683793, gamma=1000.0, kernel=linear;, score=0.714 total time=   0.0s\n",
      "[CV 7/10] END C=31.622776601683793, gamma=1000.0, kernel=linear;, score=0.714 total time=   0.0s\n",
      "[CV 8/10] END C=31.622776601683793, gamma=1000.0, kernel=linear;, score=0.714 total time=   0.0s\n",
      "[CV 9/10] END C=31.622776601683793, gamma=1000.0, kernel=linear;, score=0.714 total time=   0.0s\n",
      "[CV 10/10] END C=31.622776601683793, gamma=1000.0, kernel=linear;, score=0.714 total time=   0.0s\n",
      "[CV 1/10] END C=31.622776601683793, gamma=1000.0, kernel=rbf;, score=1.000 total time=   0.0s\n",
      "[CV 2/10] END C=31.622776601683793, gamma=1000.0, kernel=rbf;, score=0.750 total time=   0.0s\n",
      "[CV 3/10] END C=31.622776601683793, gamma=1000.0, kernel=rbf;, score=0.571 total time=   0.0s\n",
      "[CV 4/10] END C=31.622776601683793, gamma=1000.0, kernel=rbf;, score=0.571 total time=   0.0s\n",
      "[CV 5/10] END C=31.622776601683793, gamma=1000.0, kernel=rbf;, score=0.571 total time=   0.0s\n",
      "[CV 6/10] END C=31.622776601683793, gamma=1000.0, kernel=rbf;, score=0.571 total time=   0.0s\n",
      "[CV 7/10] END C=31.622776601683793, gamma=1000.0, kernel=rbf;, score=0.714 total time=   0.0s\n",
      "[CV 8/10] END C=31.622776601683793, gamma=1000.0, kernel=rbf;, score=0.714 total time=   0.0s\n",
      "[CV 9/10] END C=31.622776601683793, gamma=1000.0, kernel=rbf;, score=0.429 total time=   0.0s\n",
      "[CV 10/10] END C=31.622776601683793, gamma=1000.0, kernel=rbf;, score=0.714 total time=   0.0s\n",
      "[CV 1/10] END C=1000.0, gamma=0.001, kernel=linear;, score=0.625 total time=   0.0s\n",
      "[CV 2/10] END C=1000.0, gamma=0.001, kernel=linear;, score=0.625 total time=   0.0s\n",
      "[CV 3/10] END C=1000.0, gamma=0.001, kernel=linear;, score=0.571 total time=   0.0s\n",
      "[CV 4/10] END C=1000.0, gamma=0.001, kernel=linear;, score=0.571 total time=   0.0s\n",
      "[CV 5/10] END C=1000.0, gamma=0.001, kernel=linear;, score=0.714 total time=   0.0s\n",
      "[CV 6/10] END C=1000.0, gamma=0.001, kernel=linear;, score=0.714 total time=   0.0s\n",
      "[CV 7/10] END C=1000.0, gamma=0.001, kernel=linear;, score=0.714 total time=   0.0s\n",
      "[CV 8/10] END C=1000.0, gamma=0.001, kernel=linear;, score=0.714 total time=   0.0s\n",
      "[CV 9/10] END C=1000.0, gamma=0.001, kernel=linear;, score=0.714 total time=   0.0s\n",
      "[CV 10/10] END C=1000.0, gamma=0.001, kernel=linear;, score=0.714 total time=   0.0s\n",
      "[CV 1/10] END C=1000.0, gamma=0.001, kernel=rbf;, score=0.625 total time=   0.0s\n",
      "[CV 2/10] END C=1000.0, gamma=0.001, kernel=rbf;, score=0.625 total time=   0.0s\n",
      "[CV 3/10] END C=1000.0, gamma=0.001, kernel=rbf;, score=0.571 total time=   0.0s\n",
      "[CV 4/10] END C=1000.0, gamma=0.001, kernel=rbf;, score=0.571 total time=   0.0s\n",
      "[CV 5/10] END C=1000.0, gamma=0.001, kernel=rbf;, score=0.714 total time=   0.0s\n",
      "[CV 6/10] END C=1000.0, gamma=0.001, kernel=rbf;, score=0.714 total time=   0.0s\n",
      "[CV 7/10] END C=1000.0, gamma=0.001, kernel=rbf;, score=0.714 total time=   0.0s\n",
      "[CV 8/10] END C=1000.0, gamma=0.001, kernel=rbf;, score=0.714 total time=   0.0s\n",
      "[CV 9/10] END C=1000.0, gamma=0.001, kernel=rbf;, score=0.714 total time=   0.0s\n",
      "[CV 10/10] END C=1000.0, gamma=0.001, kernel=rbf;, score=0.714 total time=   0.0s\n",
      "[CV 1/10] END C=1000.0, gamma=0.03162277660168379, kernel=linear;, score=0.625 total time=   0.0s\n",
      "[CV 2/10] END C=1000.0, gamma=0.03162277660168379, kernel=linear;, score=0.625 total time=   0.0s\n",
      "[CV 3/10] END C=1000.0, gamma=0.03162277660168379, kernel=linear;, score=0.571 total time=   0.0s\n",
      "[CV 4/10] END C=1000.0, gamma=0.03162277660168379, kernel=linear;, score=0.571 total time=   0.0s\n",
      "[CV 5/10] END C=1000.0, gamma=0.03162277660168379, kernel=linear;, score=0.714 total time=   0.0s\n",
      "[CV 6/10] END C=1000.0, gamma=0.03162277660168379, kernel=linear;, score=0.714 total time=   0.0s\n",
      "[CV 7/10] END C=1000.0, gamma=0.03162277660168379, kernel=linear;, score=0.714 total time=   0.0s\n",
      "[CV 8/10] END C=1000.0, gamma=0.03162277660168379, kernel=linear;, score=0.714 total time=   0.0s\n",
      "[CV 9/10] END C=1000.0, gamma=0.03162277660168379, kernel=linear;, score=0.714 total time=   0.0s\n",
      "[CV 10/10] END C=1000.0, gamma=0.03162277660168379, kernel=linear;, score=0.714 total time=   0.0s\n",
      "[CV 1/10] END C=1000.0, gamma=0.03162277660168379, kernel=rbf;, score=0.625 total time=   0.0s\n",
      "[CV 2/10] END C=1000.0, gamma=0.03162277660168379, kernel=rbf;, score=0.625 total time=   0.0s\n",
      "[CV 3/10] END C=1000.0, gamma=0.03162277660168379, kernel=rbf;, score=0.571 total time=   0.0s\n",
      "[CV 4/10] END C=1000.0, gamma=0.03162277660168379, kernel=rbf;, score=0.571 total time=   0.0s\n",
      "[CV 5/10] END C=1000.0, gamma=0.03162277660168379, kernel=rbf;, score=0.714 total time=   0.0s\n",
      "[CV 6/10] END C=1000.0, gamma=0.03162277660168379, kernel=rbf;, score=0.714 total time=   0.0s\n",
      "[CV 7/10] END C=1000.0, gamma=0.03162277660168379, kernel=rbf;, score=0.714 total time=   0.0s\n",
      "[CV 8/10] END C=1000.0, gamma=0.03162277660168379, kernel=rbf;, score=0.714 total time=   0.0s\n",
      "[CV 9/10] END C=1000.0, gamma=0.03162277660168379, kernel=rbf;, score=0.714 total time=   0.0s\n",
      "[CV 10/10] END C=1000.0, gamma=0.03162277660168379, kernel=rbf;, score=0.714 total time=   0.0s\n",
      "[CV 1/10] END C=1000.0, gamma=1.0, kernel=linear;, score=0.625 total time=   0.0s\n",
      "[CV 2/10] END C=1000.0, gamma=1.0, kernel=linear;, score=0.625 total time=   0.0s\n",
      "[CV 3/10] END C=1000.0, gamma=1.0, kernel=linear;, score=0.571 total time=   0.0s\n",
      "[CV 4/10] END C=1000.0, gamma=1.0, kernel=linear;, score=0.571 total time=   0.0s\n",
      "[CV 5/10] END C=1000.0, gamma=1.0, kernel=linear;, score=0.714 total time=   0.0s\n",
      "[CV 6/10] END C=1000.0, gamma=1.0, kernel=linear;, score=0.714 total time=   0.0s\n",
      "[CV 7/10] END C=1000.0, gamma=1.0, kernel=linear;, score=0.714 total time=   0.0s\n",
      "[CV 8/10] END C=1000.0, gamma=1.0, kernel=linear;, score=0.714 total time=   0.0s\n",
      "[CV 9/10] END C=1000.0, gamma=1.0, kernel=linear;, score=0.714 total time=   0.0s\n",
      "[CV 10/10] END C=1000.0, gamma=1.0, kernel=linear;, score=0.714 total time=   0.0s\n",
      "[CV 1/10] END ..C=1000.0, gamma=1.0, kernel=rbf;, score=0.625 total time=   0.0s\n",
      "[CV 2/10] END ..C=1000.0, gamma=1.0, kernel=rbf;, score=0.625 total time=   0.0s\n",
      "[CV 3/10] END ..C=1000.0, gamma=1.0, kernel=rbf;, score=0.571 total time=   0.0s\n",
      "[CV 4/10] END ..C=1000.0, gamma=1.0, kernel=rbf;, score=0.571 total time=   0.0s\n",
      "[CV 5/10] END ..C=1000.0, gamma=1.0, kernel=rbf;, score=0.429 total time=   0.0s\n",
      "[CV 6/10] END ..C=1000.0, gamma=1.0, kernel=rbf;, score=0.714 total time=   0.0s\n",
      "[CV 7/10] END ..C=1000.0, gamma=1.0, kernel=rbf;, score=0.714 total time=   0.0s\n",
      "[CV 8/10] END ..C=1000.0, gamma=1.0, kernel=rbf;, score=0.286 total time=   0.0s\n",
      "[CV 9/10] END ..C=1000.0, gamma=1.0, kernel=rbf;, score=0.714 total time=   0.0s\n",
      "[CV 10/10] END .C=1000.0, gamma=1.0, kernel=rbf;, score=0.571 total time=   0.0s\n",
      "[CV 1/10] END C=1000.0, gamma=31.622776601683793, kernel=linear;, score=0.625 total time=   0.0s\n",
      "[CV 2/10] END C=1000.0, gamma=31.622776601683793, kernel=linear;, score=0.625 total time=   0.0s\n",
      "[CV 3/10] END C=1000.0, gamma=31.622776601683793, kernel=linear;, score=0.571 total time=   0.0s\n",
      "[CV 4/10] END C=1000.0, gamma=31.622776601683793, kernel=linear;, score=0.571 total time=   0.0s\n",
      "[CV 5/10] END C=1000.0, gamma=31.622776601683793, kernel=linear;, score=0.714 total time=   0.0s\n",
      "[CV 6/10] END C=1000.0, gamma=31.622776601683793, kernel=linear;, score=0.714 total time=   0.0s\n",
      "[CV 7/10] END C=1000.0, gamma=31.622776601683793, kernel=linear;, score=0.714 total time=   0.0s\n",
      "[CV 8/10] END C=1000.0, gamma=31.622776601683793, kernel=linear;, score=0.714 total time=   0.0s\n",
      "[CV 9/10] END C=1000.0, gamma=31.622776601683793, kernel=linear;, score=0.714 total time=   0.0s\n",
      "[CV 10/10] END C=1000.0, gamma=31.622776601683793, kernel=linear;, score=0.714 total time=   0.0s\n",
      "[CV 1/10] END C=1000.0, gamma=31.622776601683793, kernel=rbf;, score=0.750 total time=   0.0s\n",
      "[CV 2/10] END C=1000.0, gamma=31.622776601683793, kernel=rbf;, score=0.625 total time=   0.0s\n",
      "[CV 3/10] END C=1000.0, gamma=31.622776601683793, kernel=rbf;, score=0.571 total time=   0.0s\n",
      "[CV 4/10] END C=1000.0, gamma=31.622776601683793, kernel=rbf;, score=0.857 total time=   0.0s\n",
      "[CV 5/10] END C=1000.0, gamma=31.622776601683793, kernel=rbf;, score=0.857 total time=   0.0s\n",
      "[CV 6/10] END C=1000.0, gamma=31.622776601683793, kernel=rbf;, score=0.571 total time=   0.0s\n",
      "[CV 7/10] END C=1000.0, gamma=31.622776601683793, kernel=rbf;, score=0.714 total time=   0.0s\n",
      "[CV 8/10] END C=1000.0, gamma=31.622776601683793, kernel=rbf;, score=0.571 total time=   0.0s\n",
      "[CV 9/10] END C=1000.0, gamma=31.622776601683793, kernel=rbf;, score=0.571 total time=   0.0s\n",
      "[CV 10/10] END C=1000.0, gamma=31.622776601683793, kernel=rbf;, score=0.571 total time=   0.1s\n",
      "[CV 1/10] END C=1000.0, gamma=1000.0, kernel=linear;, score=0.625 total time=   0.0s\n",
      "[CV 2/10] END C=1000.0, gamma=1000.0, kernel=linear;, score=0.625 total time=   0.0s\n",
      "[CV 3/10] END C=1000.0, gamma=1000.0, kernel=linear;, score=0.571 total time=   0.0s\n",
      "[CV 4/10] END C=1000.0, gamma=1000.0, kernel=linear;, score=0.571 total time=   0.0s\n",
      "[CV 5/10] END C=1000.0, gamma=1000.0, kernel=linear;, score=0.714 total time=   0.0s\n",
      "[CV 6/10] END C=1000.0, gamma=1000.0, kernel=linear;, score=0.714 total time=   0.0s\n",
      "[CV 7/10] END C=1000.0, gamma=1000.0, kernel=linear;, score=0.714 total time=   0.0s\n",
      "[CV 8/10] END C=1000.0, gamma=1000.0, kernel=linear;, score=0.714 total time=   0.0s\n",
      "[CV 9/10] END C=1000.0, gamma=1000.0, kernel=linear;, score=0.714 total time=   0.0s\n",
      "[CV 10/10] END C=1000.0, gamma=1000.0, kernel=linear;, score=0.714 total time=   0.0s\n",
      "[CV 1/10] END C=1000.0, gamma=1000.0, kernel=rbf;, score=1.000 total time=   0.0s\n",
      "[CV 2/10] END C=1000.0, gamma=1000.0, kernel=rbf;, score=0.750 total time=   0.0s\n",
      "[CV 3/10] END C=1000.0, gamma=1000.0, kernel=rbf;, score=0.571 total time=   0.0s\n",
      "[CV 4/10] END C=1000.0, gamma=1000.0, kernel=rbf;, score=0.571 total time=   0.0s\n",
      "[CV 5/10] END C=1000.0, gamma=1000.0, kernel=rbf;, score=0.571 total time=   0.0s\n",
      "[CV 6/10] END C=1000.0, gamma=1000.0, kernel=rbf;, score=0.429 total time=   0.0s\n",
      "[CV 7/10] END C=1000.0, gamma=1000.0, kernel=rbf;, score=0.857 total time=   0.0s\n",
      "[CV 8/10] END C=1000.0, gamma=1000.0, kernel=rbf;, score=0.571 total time=   0.0s\n",
      "[CV 9/10] END C=1000.0, gamma=1000.0, kernel=rbf;, score=0.571 total time=   0.0s\n",
      "[CV 10/10] END C=1000.0, gamma=1000.0, kernel=rbf;, score=0.714 total time=   0.0s\n",
      "GridSearchCV fitting completed!\n",
      "Tuned hyperparameters (best parameters): {'C': np.float64(0.001), 'gamma': np.float64(0.001), 'kernel': 'linear'}\n",
      "Best Cross-Validation Score: 0.6678571428571429\n",
      "Accuracy on the test data: 0.6666666666666666\n"
     ]
    }
   ],
   "source": [
    "from sklearn.svm import SVC\n",
    "from sklearn.model_selection import GridSearchCV\n",
    "import numpy as np\n",
    "\n",
    "# Step 1: Print dataset shapes to ensure they are correct\n",
    "print(f\"X_train shape: {X_train.shape}\")\n",
    "print(f\"Y_train shape: {Y_train.shape}\")\n",
    "print(f\"X_test shape: {X_test.shape}\")\n",
    "print(f\"Y_test shape: {Y_test.shape}\")\n",
    "\n",
    "# Step 2: Create an SVM object\n",
    "svm = SVC()\n",
    "\n",
    "# Step 3: Define a parameter grid to search\n",
    "parameters = {\n",
    "    'kernel': ['linear', 'rbf'],  # Simplified kernel list for now\n",
    "    'C': np.logspace(-3, 3, 5),   # Regularization parameter\n",
    "    'gamma': np.logspace(-3, 3, 5)  # Kernel coefficient\n",
    "}\n",
    "\n",
    "# Step 4: Create a GridSearchCV object with verbose output\n",
    "svm_cv = GridSearchCV(estimator=svm, param_grid=parameters, cv=10, verbose=3)\n",
    "\n",
    "# Step 5: Fit the GridSearchCV object to the training data\n",
    "try:\n",
    "    print(\"Starting GridSearchCV fitting process...\")\n",
    "    svm_cv.fit(X_train, Y_train)  # Fit the model\n",
    "    print(\"GridSearchCV fitting completed!\")\n",
    "\n",
    "    # Step 6: Output the best parameters and accuracy score\n",
    "    print(\"Tuned hyperparameters (best parameters):\", svm_cv.best_params_)\n",
    "    print(\"Best Cross-Validation Score:\", svm_cv.best_score_)\n",
    "\n",
    "    # Step 7: Calculate accuracy on test data\n",
    "    accuracy = svm_cv.score(X_test, Y_test)\n",
    "    print(\"Accuracy on the test data:\", accuracy)\n",
    "\n",
    "except Exception as e:\n",
    "    print(f\"An error occurred during the fitting process: {e}\")"
   ]
  },
  {
   "cell_type": "markdown",
   "metadata": {},
   "source": [
    "## TASK  7\n"
   ]
  },
  {
   "cell_type": "markdown",
   "metadata": {},
   "source": [
    "Calculate the accuracy on the test data using the method <code>score</code>:\n"
   ]
  },
  {
   "cell_type": "code",
   "execution_count": 32,
   "metadata": {},
   "outputs": [
    {
     "name": "stdout",
     "output_type": "stream",
     "text": [
      "Accuracy on the test data: 0.6667\n"
     ]
    }
   ],
   "source": [
    "# Assuming 'svm_cv' is your fitted GridSearchCV object for the SVM\n",
    "\n",
    "# Step 1: Calculate the accuracy on the test data\n",
    "accuracy_test = svm_cv.score(X_test, Y_test)\n",
    "\n",
    "# Step 2: Print the accuracy\n",
    "print(\"Accuracy on the test data: {:.4f}\".format(accuracy_test))"
   ]
  },
  {
   "cell_type": "markdown",
   "metadata": {},
   "source": [
    "We can plot the confusion matrix\n"
   ]
  },
  {
   "cell_type": "code",
   "execution_count": 33,
   "metadata": {},
   "outputs": [
    {
     "data": {
      "image/png": "[encoded data removed]",
      "text/plain": [
       "<Figure size 640x480 with 2 Axes>"
      ]
     },
     "metadata": {},
     "output_type": "display_data"
    }
   ],
   "source": [
    "yhat=svm_cv.predict(X_test)\n",
    "plot_confusion_matrix(Y_test,yhat)"
   ]
  },
  {
   "cell_type": "markdown",
   "metadata": {},
   "source": [
    "## TASK  8\n"
   ]
  },
  {
   "cell_type": "markdown",
   "metadata": {},
   "source": [
    "Create a decision tree classifier object then  create a  <code>GridSearchCV</code> object  <code>tree_cv</code> with cv = 10.  Fit the object to find the best parameters from the dictionary <code>parameters</code>.\n"
   ]
  },
  {
   "cell_type": "code",
   "execution_count": null,
   "metadata": {},
   "outputs": [],
   "source": [
    "parameters = {'criterion': ['gini', 'entropy'],\n",
    "     'splitter': ['best', 'random'],\n",
    "     'max_depth': [2*n for n in range(1,10)],\n",
    "     'max_features': ['auto', 'sqrt'],\n",
    "     'min_samples_leaf': [1, 2, 4],\n",
    "     'min_samples_split': [2, 5, 10]}\n",
    "\n",
    "tree = DecisionTreeClassifier()"
   ]
  },
  {
   "cell_type": "code",
   "execution_count": 36,
   "metadata": {},
   "outputs": [
    {
     "name": "stdout",
     "output_type": "stream",
     "text": [
      "Fitting 10 folds for each of 972 candidates, totalling 9720 fits\n",
      "Tuned hyperparameters (best parameters):  {'criterion': 'entropy', 'max_depth': 10, 'max_features': 'log2', 'min_samples_leaf': 1, 'min_samples_split': 2, 'splitter': 'random'}\n",
      "Best Cross-Validation Score:  0.7446428571428572\n",
      "Accuracy on the test data:  0.6111111111111112\n"
     ]
    }
   ],
   "source": [
    "# Revised parameter grid\n",
    "parameters = {\n",
    "    'criterion': ['gini', 'entropy'],\n",
    "    'splitter': ['best', 'random'],\n",
    "    'max_depth': [2*n for n in range(1,10)],\n",
    "    'max_features': ['sqrt', 'log2', None],  # Removed 'auto'\n",
    "    'min_samples_leaf': [1, 2, 4],\n",
    "    'min_samples_split': [2, 5, 10]\n",
    "}\n",
    "\n",
    "# Re-run the GridSearchCV\n",
    "tree_cv = GridSearchCV(estimator=tree, param_grid=parameters, cv=10, verbose=1)\n",
    "tree_cv.fit(X_train, Y_train)\n",
    "\n",
    "# Output best parameters, best score, and accuracy\n",
    "print(\"Tuned hyperparameters (best parameters): \", tree_cv.best_params_)\n",
    "print(\"Best Cross-Validation Score: \", tree_cv.best_score_)\n",
    "\n",
    "# Calculate the accuracy on the test data\n",
    "accuracy = tree_cv.score(X_test, Y_test)\n",
    "print(\"Accuracy on the test data: \", accuracy)"
   ]
  },
  {
   "cell_type": "markdown",
   "metadata": {},
   "source": [
    "## TASK  9\n"
   ]
  },
  {
   "cell_type": "markdown",
   "metadata": {},
   "source": [
    "Calculate the accuracy of tree_cv on the test data using the method <code>score</code>:\n"
   ]
  },
  {
   "cell_type": "code",
   "execution_count": 38,
   "metadata": {},
   "outputs": [
    {
     "ename": "NameError",
     "evalue": "name 'y' is not defined",
     "output_type": "error",
     "traceback": [
      "\u001b[1;31m---------------------------------------------------------------------------\u001b[0m",
      "\u001b[1;31mNameError\u001b[0m                                 Traceback (most recent call last)",
      "Cell \u001b[1;32mIn[38], line 4\u001b[0m\n\u001b[0;32m      1\u001b[0m \u001b[38;5;28;01mfrom\u001b[39;00m \u001b[38;5;21;01msklearn\u001b[39;00m\u001b[38;5;21;01m.\u001b[39;00m\u001b[38;5;21;01mmodel_selection\u001b[39;00m \u001b[38;5;28;01mimport\u001b[39;00m train_test_split\n\u001b[0;32m      3\u001b[0m \u001b[38;5;66;03m# Assuming X and y are your features and labels respectively\u001b[39;00m\n\u001b[1;32m----> 4\u001b[0m X_train, X_test, y_train, y_test \u001b[38;5;241m=\u001b[39m train_test_split(X, \u001b[43my\u001b[49m, test_size\u001b[38;5;241m=\u001b[39m\u001b[38;5;241m0.2\u001b[39m, random_state\u001b[38;5;241m=\u001b[39m\u001b[38;5;241m42\u001b[39m)\n",
      "\u001b[1;31mNameError\u001b[0m: name 'y' is not defined"
     ]
    }
   ],
   "source": [
    "from sklearn.model_selection import train_test_split\n",
    "\n",
    "# Assuming X and y are your features and labels respectively\n",
    "X_train, X_test, y_train, y_test = train_test_split(X, y, test_size=0.2, random_state=42)"
   ]
  },
  {
   "cell_type": "code",
   "execution_count": 40,
   "metadata": {},
   "outputs": [],
   "source": [
    "data = pd.read_csv(\"https://cf-courses-data.s3.us.cloud-object-storage.appdomain.cloud/IBM-DS0321EN-SkillsNetwork/datasets/dataset_part_2.csv\")"
   ]
  },
  {
   "cell_type": "code",
   "execution_count": 41,
   "metadata": {},
   "outputs": [],
   "source": [
    "df = pd.read_csv(\"https://cf-courses-data.s3.us.cloud-object-storage.appdomain.cloud/IBM-DS0321EN-SkillsNetwork/datasets/dataset_part_2.csv\")\n"
   ]
  },
  {
   "cell_type": "code",
   "execution_count": 42,
   "metadata": {},
   "outputs": [
    {
     "name": "stdout",
     "output_type": "stream",
     "text": [
      "C:\\Users\\Christopher Jones\\Downloads\n"
     ]
    }
   ],
   "source": [
    "import os\n",
    "print(os.getcwd())"
   ]
  },
  {
   "cell_type": "code",
   "execution_count": 44,
   "metadata": {},
   "outputs": [
    {
     "name": "stdout",
     "output_type": "stream",
     "text": [
      "Columns in the DataFrame: Index(['FlightNumber', 'Date', 'BoosterVersion', 'PayloadMass', 'Orbit',\n",
      "       'LaunchSite', 'Outcome', 'Flights', 'GridFins', 'Reused', 'Legs',\n",
      "       'LandingPad', 'Block', 'ReusedCount', 'Serial', 'Longitude', 'Latitude',\n",
      "       'Class'],\n",
      "      dtype='object')\n"
     ]
    },
    {
     "ename": "KeyError",
     "evalue": "\"['actual_target_name'] not found in axis\"",
     "output_type": "error",
     "traceback": [
      "\u001b[1;31m---------------------------------------------------------------------------\u001b[0m",
      "\u001b[1;31mKeyError\u001b[0m                                  Traceback (most recent call last)",
      "Cell \u001b[1;32mIn[44], line 6\u001b[0m\n\u001b[0;32m      4\u001b[0m \u001b[38;5;66;03m# Define your features (X) and labels (y)\u001b[39;00m\n\u001b[0;32m      5\u001b[0m target_column_name \u001b[38;5;241m=\u001b[39m \u001b[38;5;124m'\u001b[39m\u001b[38;5;124mactual_target_name\u001b[39m\u001b[38;5;124m'\u001b[39m  \u001b[38;5;66;03m# Replace this with the actual target column name you found\u001b[39;00m\n\u001b[1;32m----> 6\u001b[0m X \u001b[38;5;241m=\u001b[39m \u001b[43mdf\u001b[49m\u001b[38;5;241;43m.\u001b[39;49m\u001b[43mdrop\u001b[49m\u001b[43m(\u001b[49m\u001b[43mtarget_column_name\u001b[49m\u001b[43m,\u001b[49m\u001b[43m \u001b[49m\u001b[43maxis\u001b[49m\u001b[38;5;241;43m=\u001b[39;49m\u001b[38;5;241;43m1\u001b[39;49m\u001b[43m)\u001b[49m\n\u001b[0;32m      7\u001b[0m y \u001b[38;5;241m=\u001b[39m df[target_column_name]\n",
      "File \u001b[1;32m~\\AppData\\Roaming\\Python\\Python313\\site-packages\\pandas\\core\\frame.py:5581\u001b[0m, in \u001b[0;36mDataFrame.drop\u001b[1;34m(self, labels, axis, index, columns, level, inplace, errors)\u001b[0m\n\u001b[0;32m   5433\u001b[0m \u001b[38;5;28;01mdef\u001b[39;00m \u001b[38;5;21mdrop\u001b[39m(\n\u001b[0;32m   5434\u001b[0m     \u001b[38;5;28mself\u001b[39m,\n\u001b[0;32m   5435\u001b[0m     labels: IndexLabel \u001b[38;5;241m|\u001b[39m \u001b[38;5;28;01mNone\u001b[39;00m \u001b[38;5;241m=\u001b[39m \u001b[38;5;28;01mNone\u001b[39;00m,\n\u001b[1;32m   (...)\u001b[0m\n\u001b[0;32m   5442\u001b[0m     errors: IgnoreRaise \u001b[38;5;241m=\u001b[39m \u001b[38;5;124m\"\u001b[39m\u001b[38;5;124mraise\u001b[39m\u001b[38;5;124m\"\u001b[39m,\n\u001b[0;32m   5443\u001b[0m ) \u001b[38;5;241m-\u001b[39m\u001b[38;5;241m>\u001b[39m DataFrame \u001b[38;5;241m|\u001b[39m \u001b[38;5;28;01mNone\u001b[39;00m:\n\u001b[0;32m   5444\u001b[0m \u001b[38;5;250m    \u001b[39m\u001b[38;5;124;03m\"\"\"\u001b[39;00m\n\u001b[0;32m   5445\u001b[0m \u001b[38;5;124;03m    Drop specified labels from rows or columns.\u001b[39;00m\n\u001b[0;32m   5446\u001b[0m \n\u001b[1;32m   (...)\u001b[0m\n\u001b[0;32m   5579\u001b[0m \u001b[38;5;124;03m            weight  1.0     0.8\u001b[39;00m\n\u001b[0;32m   5580\u001b[0m \u001b[38;5;124;03m    \"\"\"\u001b[39;00m\n\u001b[1;32m-> 5581\u001b[0m     \u001b[38;5;28;01mreturn\u001b[39;00m \u001b[38;5;28;43msuper\u001b[39;49m\u001b[43m(\u001b[49m\u001b[43m)\u001b[49m\u001b[38;5;241;43m.\u001b[39;49m\u001b[43mdrop\u001b[49m\u001b[43m(\u001b[49m\n\u001b[0;32m   5582\u001b[0m \u001b[43m        \u001b[49m\u001b[43mlabels\u001b[49m\u001b[38;5;241;43m=\u001b[39;49m\u001b[43mlabels\u001b[49m\u001b[43m,\u001b[49m\n\u001b[0;32m   5583\u001b[0m \u001b[43m        \u001b[49m\u001b[43maxis\u001b[49m\u001b[38;5;241;43m=\u001b[39;49m\u001b[43maxis\u001b[49m\u001b[43m,\u001b[49m\n\u001b[0;32m   5584\u001b[0m \u001b[43m        \u001b[49m\u001b[43mindex\u001b[49m\u001b[38;5;241;43m=\u001b[39;49m\u001b[43mindex\u001b[49m\u001b[43m,\u001b[49m\n\u001b[0;32m   5585\u001b[0m \u001b[43m        \u001b[49m\u001b[43mcolumns\u001b[49m\u001b[38;5;241;43m=\u001b[39;49m\u001b[43mcolumns\u001b[49m\u001b[43m,\u001b[49m\n\u001b[0;32m   5586\u001b[0m \u001b[43m        \u001b[49m\u001b[43mlevel\u001b[49m\u001b[38;5;241;43m=\u001b[39;49m\u001b[43mlevel\u001b[49m\u001b[43m,\u001b[49m\n\u001b[0;32m   5587\u001b[0m \u001b[43m        \u001b[49m\u001b[43minplace\u001b[49m\u001b[38;5;241;43m=\u001b[39;49m\u001b[43minplace\u001b[49m\u001b[43m,\u001b[49m\n\u001b[0;32m   5588\u001b[0m \u001b[43m        \u001b[49m\u001b[43merrors\u001b[49m\u001b[38;5;241;43m=\u001b[39;49m\u001b[43merrors\u001b[49m\u001b[43m,\u001b[49m\n\u001b[0;32m   5589\u001b[0m \u001b[43m    \u001b[49m\u001b[43m)\u001b[49m\n",
      "File \u001b[1;32m~\\AppData\\Roaming\\Python\\Python313\\site-packages\\pandas\\core\\generic.py:4788\u001b[0m, in \u001b[0;36mNDFrame.drop\u001b[1;34m(self, labels, axis, index, columns, level, inplace, errors)\u001b[0m\n\u001b[0;32m   4786\u001b[0m \u001b[38;5;28;01mfor\u001b[39;00m axis, labels \u001b[38;5;129;01min\u001b[39;00m axes\u001b[38;5;241m.\u001b[39mitems():\n\u001b[0;32m   4787\u001b[0m     \u001b[38;5;28;01mif\u001b[39;00m labels \u001b[38;5;129;01mis\u001b[39;00m \u001b[38;5;129;01mnot\u001b[39;00m \u001b[38;5;28;01mNone\u001b[39;00m:\n\u001b[1;32m-> 4788\u001b[0m         obj \u001b[38;5;241m=\u001b[39m \u001b[43mobj\u001b[49m\u001b[38;5;241;43m.\u001b[39;49m\u001b[43m_drop_axis\u001b[49m\u001b[43m(\u001b[49m\u001b[43mlabels\u001b[49m\u001b[43m,\u001b[49m\u001b[43m \u001b[49m\u001b[43maxis\u001b[49m\u001b[43m,\u001b[49m\u001b[43m \u001b[49m\u001b[43mlevel\u001b[49m\u001b[38;5;241;43m=\u001b[39;49m\u001b[43mlevel\u001b[49m\u001b[43m,\u001b[49m\u001b[43m \u001b[49m\u001b[43merrors\u001b[49m\u001b[38;5;241;43m=\u001b[39;49m\u001b[43merrors\u001b[49m\u001b[43m)\u001b[49m\n\u001b[0;32m   4790\u001b[0m \u001b[38;5;28;01mif\u001b[39;00m inplace:\n\u001b[0;32m   4791\u001b[0m     \u001b[38;5;28mself\u001b[39m\u001b[38;5;241m.\u001b[39m_update_inplace(obj)\n",
      "File \u001b[1;32m~\\AppData\\Roaming\\Python\\Python313\\site-packages\\pandas\\core\\generic.py:4830\u001b[0m, in \u001b[0;36mNDFrame._drop_axis\u001b[1;34m(self, labels, axis, level, errors, only_slice)\u001b[0m\n\u001b[0;32m   4828\u001b[0m         new_axis \u001b[38;5;241m=\u001b[39m axis\u001b[38;5;241m.\u001b[39mdrop(labels, level\u001b[38;5;241m=\u001b[39mlevel, errors\u001b[38;5;241m=\u001b[39merrors)\n\u001b[0;32m   4829\u001b[0m     \u001b[38;5;28;01melse\u001b[39;00m:\n\u001b[1;32m-> 4830\u001b[0m         new_axis \u001b[38;5;241m=\u001b[39m \u001b[43maxis\u001b[49m\u001b[38;5;241;43m.\u001b[39;49m\u001b[43mdrop\u001b[49m\u001b[43m(\u001b[49m\u001b[43mlabels\u001b[49m\u001b[43m,\u001b[49m\u001b[43m \u001b[49m\u001b[43merrors\u001b[49m\u001b[38;5;241;43m=\u001b[39;49m\u001b[43merrors\u001b[49m\u001b[43m)\u001b[49m\n\u001b[0;32m   4831\u001b[0m     indexer \u001b[38;5;241m=\u001b[39m axis\u001b[38;5;241m.\u001b[39mget_indexer(new_axis)\n\u001b[0;32m   4833\u001b[0m \u001b[38;5;66;03m# Case for non-unique axis\u001b[39;00m\n\u001b[0;32m   4834\u001b[0m \u001b[38;5;28;01melse\u001b[39;00m:\n",
      "File \u001b[1;32m~\\AppData\\Roaming\\Python\\Python313\\site-packages\\pandas\\core\\indexes\\base.py:7070\u001b[0m, in \u001b[0;36mIndex.drop\u001b[1;34m(self, labels, errors)\u001b[0m\n\u001b[0;32m   7068\u001b[0m \u001b[38;5;28;01mif\u001b[39;00m mask\u001b[38;5;241m.\u001b[39many():\n\u001b[0;32m   7069\u001b[0m     \u001b[38;5;28;01mif\u001b[39;00m errors \u001b[38;5;241m!=\u001b[39m \u001b[38;5;124m\"\u001b[39m\u001b[38;5;124mignore\u001b[39m\u001b[38;5;124m\"\u001b[39m:\n\u001b[1;32m-> 7070\u001b[0m         \u001b[38;5;28;01mraise\u001b[39;00m \u001b[38;5;167;01mKeyError\u001b[39;00m(\u001b[38;5;124mf\u001b[39m\u001b[38;5;124m\"\u001b[39m\u001b[38;5;132;01m{\u001b[39;00mlabels[mask]\u001b[38;5;241m.\u001b[39mtolist()\u001b[38;5;132;01m}\u001b[39;00m\u001b[38;5;124m not found in axis\u001b[39m\u001b[38;5;124m\"\u001b[39m)\n\u001b[0;32m   7071\u001b[0m     indexer \u001b[38;5;241m=\u001b[39m indexer[\u001b[38;5;241m~\u001b[39mmask]\n\u001b[0;32m   7072\u001b[0m \u001b[38;5;28;01mreturn\u001b[39;00m \u001b[38;5;28mself\u001b[39m\u001b[38;5;241m.\u001b[39mdelete(indexer)\n",
      "\u001b[1;31mKeyError\u001b[0m: \"['actual_target_name'] not found in axis\""
     ]
    }
   ],
   "source": [
    "# Check the column names\n",
    "print(\"Columns in the DataFrame:\", df.columns)\n",
    "\n",
    "# Define your features (X) and labels (y)\n",
    "target_column_name = 'actual_target_name'  # Replace this with the actual target column name you found\n",
    "X = df.drop(target_column_name, axis=1)\n",
    "y = df[target_column_name]"
   ]
  },
  {
   "cell_type": "code",
   "execution_count": 48,
   "metadata": {},
   "outputs": [
    {
     "name": "stdout",
     "output_type": "stream",
     "text": [
      "Accuracy of the Decision Tree on the test data: 1.0000\n"
     ]
    }
   ],
   "source": [
    "import pandas as pd\n",
    "from sklearn.model_selection import train_test_split\n",
    "from sklearn.tree import DecisionTreeClassifier\n",
    "from sklearn.preprocessing import OneHotEncoder\n",
    "from sklearn.compose import ColumnTransformer\n",
    "from sklearn.pipeline import Pipeline\n",
    "\n",
    "# Load your dataset\n",
    "df = pd.read_csv(\"https://cf-courses-data.s3.us.cloud-object-storage.appdomain.cloud/IBM-DS0321EN-SkillsNetwork/datasets/dataset_part_2.csv\")\n",
    "\n",
    "# Strip any whitespace from column names\n",
    "df.columns = df.columns.str.strip()\n",
    "\n",
    "# Define your features (X) and labels (y)\n",
    "target_column_name = 'Class'  # Confirm this is the correct name\n",
    "X = df.drop(target_column_name, axis=1)\n",
    "y = df[target_column_name]\n",
    "\n",
    "# Convert the 'Date' column to datetime and extract features (optional)\n",
    "if 'Date' in X.columns:\n",
    "    X['Date'] = pd.to_datetime(X['Date'])\n",
    "    X['Year'] = X['Date'].dt.year\n",
    "    X['Month'] = X['Date'].dt.month\n",
    "    X['Day'] = X['Date'].dt.day\n",
    "    X = X.drop('Date', axis=1)  # Drop the original date column if needed\n",
    "\n",
    "# Select non-numeric columns for one-hot encoding\n",
    "categorical_cols = X.select_dtypes(include=['object']).columns.tolist()\n",
    "X = X.select_dtypes(exclude=['object'])  # Keep only numeric columns\n",
    "\n",
    "# Add the encoded categorical columns back to the DataFrame\n",
    "X = pd.get_dummies(df[categorical_cols], drop_first=True).join(X)\n",
    "\n",
    "# Perform the train-test split\n",
    "X_train, X_test, y_train, y_test = train_test_split(X, y, test_size=0.2, random_state=42)\n",
    "\n",
    "# Fit a Decision Tree Classifier\n",
    "tree = DecisionTreeClassifier()\n",
    "tree.fit(X_train, y_train)\n",
    "\n",
    "# Evaluate the model\n",
    "accuracy = tree.score(X_test, y_test)\n",
    "print(\"Accuracy of the Decision Tree on the test data: {:.4f}\".format(accuracy))"
   ]
  },
  {
   "cell_type": "code",
   "execution_count": 49,
   "metadata": {},
   "outputs": [
    {
     "name": "stdout",
     "output_type": "stream",
     "text": [
      "Cross-validated accuracy scores: [0.5        0.77777778 0.77777778 1.         0.83333333]\n",
      "Mean accuracy: 0.7777777777777778\n"
     ]
    }
   ],
   "source": [
    "from sklearn.model_selection import cross_val_score\n",
    "\n",
    "# Cross-validate the model\n",
    "scores = cross_val_score(tree, X, y, cv=5)  # 5-fold cross-validation\n",
    "print(\"Cross-validated accuracy scores:\", scores)\n",
    "print(\"Mean accuracy:\", scores.mean())"
   ]
  },
  {
   "cell_type": "code",
   "execution_count": 50,
   "metadata": {},
   "outputs": [
    {
     "name": "stdout",
     "output_type": "stream",
     "text": [
      "Class\n",
      "1    60\n",
      "0    30\n",
      "Name: count, dtype: int64\n"
     ]
    }
   ],
   "source": [
    "print(y.value_counts())"
   ]
  },
  {
   "cell_type": "code",
   "execution_count": 51,
   "metadata": {},
   "outputs": [
    {
     "name": "stdout",
     "output_type": "stream",
     "text": [
      "Classification Report:\n",
      "               precision    recall  f1-score   support\n",
      "\n",
      "           0       1.00      1.00      1.00         4\n",
      "           1       1.00      1.00      1.00        14\n",
      "\n",
      "    accuracy                           1.00        18\n",
      "   macro avg       1.00      1.00      1.00        18\n",
      "weighted avg       1.00      1.00      1.00        18\n",
      "\n",
      "Confusion Matrix:\n",
      " [[ 4  0]\n",
      " [ 0 14]]\n"
     ]
    }
   ],
   "source": [
    "from sklearn.metrics import classification_report, confusion_matrix\n",
    "\n",
    "y_pred = tree.predict(X_test)\n",
    "print(\"Classification Report:\\n\", classification_report(y_test, y_pred))\n",
    "print(\"Confusion Matrix:\\n\", confusion_matrix(y_test, y_pred))"
   ]
  },
  {
   "cell_type": "markdown",
   "metadata": {},
   "source": [
    "We can plot the confusion matrix\n"
   ]
  },
  {
   "cell_type": "code",
   "execution_count": null,
   "metadata": {},
   "outputs": [],
   "source": [
    "yhat = tree_cv.predict(X_test)\n",
    "plot_confusion_matrix(Y_test,yhat)"
   ]
  },
  {
   "cell_type": "markdown",
   "metadata": {},
   "source": [
    "## TASK  10\n"
   ]
  },
  {
   "cell_type": "markdown",
   "metadata": {},
   "source": [
    "Create a k nearest neighbors object then  create a  <code>GridSearchCV</code> object  <code>knn_cv</code> with cv = 10.  Fit the object to find the best parameters from the dictionary <code>parameters</code>.\n"
   ]
  },
  {
   "cell_type": "code",
   "execution_count": null,
   "metadata": {},
   "outputs": [],
   "source": [
    "parameters = {'n_neighbors': [1, 2, 3, 4, 5, 6, 7, 8, 9, 10],\n",
    "              'algorithm': ['auto', 'ball_tree', 'kd_tree', 'brute'],\n",
    "              'p': [1,2]}\n"
   ]
  },
  {
   "cell_type": "code",
   "execution_count": 52,
   "metadata": {},
   "outputs": [
    {
     "name": "stdout",
     "output_type": "stream",
     "text": [
      "Best Parameters: {'algorithm': 'auto', 'n_neighbors': 3, 'p': 1}\n",
      "Best Score: 0.6785714285714286\n",
      "Classification Report:\n",
      "               precision    recall  f1-score   support\n",
      "\n",
      "           0       0.14      0.25      0.18         4\n",
      "           1       0.73      0.57      0.64        14\n",
      "\n",
      "    accuracy                           0.50        18\n",
      "   macro avg       0.44      0.41      0.41        18\n",
      "weighted avg       0.60      0.50      0.54        18\n",
      "\n",
      "Confusion Matrix:\n",
      " [[1 3]\n",
      " [6 8]]\n"
     ]
    }
   ],
   "source": [
    "# Import necessary libraries\n",
    "from sklearn.model_selection import GridSearchCV\n",
    "from sklearn.neighbors import KNeighborsClassifier\n",
    "from sklearn.metrics import classification_report, confusion_matrix\n",
    "\n",
    "# Step 1: Define the KNN classifier\n",
    "KNN = KNeighborsClassifier()\n",
    "\n",
    "# Step 2: Define the parameter grid\n",
    "parameters = {\n",
    "    'n_neighbors': [1, 2, 3, 4, 5, 6, 7, 8, 9, 10],\n",
    "    'algorithm': ['auto', 'ball_tree', 'kd_tree', 'brute'],\n",
    "    'p': [1, 2]\n",
    "}\n",
    "\n",
    "# Step 3: Create the GridSearchCV object\n",
    "knn_cv = GridSearchCV(KNN, parameters, cv=10)\n",
    "\n",
    "# Step 4: Fit the model to find the best parameters\n",
    "knn_cv.fit(X_train, y_train)\n",
    "\n",
    "# Step 5: Print the best parameters and the best score\n",
    "print(\"Best Parameters:\", knn_cv.best_params_)\n",
    "print(\"Best Score:\", knn_cv.best_score_)\n",
    "\n",
    "# Optional: Evaluate the model with the best parameters on the test set\n",
    "best_knn = knn_cv.best_estimator_\n",
    "y_pred = best_knn.predict(X_test)\n",
    "\n",
    "# Print classification report and confusion matrix\n",
    "print(\"Classification Report:\\n\", classification_report(y_test, y_pred))\n",
    "print(\"Confusion Matrix:\\n\", confusion_matrix(y_test, y_pred))"
   ]
  },
  {
   "cell_type": "code",
   "execution_count": 53,
   "metadata": {},
   "outputs": [
    {
     "name": "stdout",
     "output_type": "stream",
     "text": [
      "tuned hpyerparameters :(best parameters)  {'algorithm': 'auto', 'n_neighbors': 3, 'p': 1}\n",
      "accuracy : 0.6785714285714286\n"
     ]
    }
   ],
   "source": [
    "print(\"tuned hpyerparameters :(best parameters) \",knn_cv.best_params_)\n",
    "print(\"accuracy :\",knn_cv.best_score_)"
   ]
  },
  {
   "cell_type": "markdown",
   "metadata": {},
   "source": [
    "## TASK  11\n"
   ]
  },
  {
   "cell_type": "markdown",
   "metadata": {},
   "source": [
    "Calculate the accuracy of knn_cv on the test data using the method <code>score</code>:\n"
   ]
  },
  {
   "cell_type": "code",
   "execution_count": 54,
   "metadata": {},
   "outputs": [
    {
     "name": "stdout",
     "output_type": "stream",
     "text": [
      "Accuracy of KNN on test data: 0.5000\n"
     ]
    }
   ],
   "source": [
    "# Assuming `X_test` and `y_test` are your test features and labels\n",
    "accuracy_knn = knn_cv.score(X_test, y_test)\n",
    "print(f\"Accuracy of KNN on test data: {accuracy_knn:.4f}\")"
   ]
  },
  {
   "cell_type": "markdown",
   "metadata": {},
   "source": [
    "We can plot the confusion matrix\n"
   ]
  },
  {
   "cell_type": "code",
   "execution_count": 55,
   "metadata": {},
   "outputs": [
    {
     "data": {
      "image/png": "[encoded data removed]",
      "text/plain": [
       "<Figure size 640x480 with 2 Axes>"
      ]
     },
     "metadata": {},
     "output_type": "display_data"
    }
   ],
   "source": [
    "yhat = knn_cv.predict(X_test)\n",
    "plot_confusion_matrix(Y_test,yhat)"
   ]
  },
  {
   "cell_type": "markdown",
   "metadata": {},
   "source": [
    "## TASK  12\n"
   ]
  },
  {
   "cell_type": "markdown",
   "metadata": {},
   "source": [
    "Find the method performs best:\n"
   ]
  },
  {
   "cell_type": "code",
   "execution_count": 56,
   "metadata": {},
   "outputs": [
    {
     "name": "stdout",
     "output_type": "stream",
     "text": [
      "The Decision Tree performs better with an accuracy of 1.0000.\n"
     ]
    }
   ],
   "source": [
    "# Assuming you have these accuracy scores already calculated\n",
    "accuracy_tree = 1.0  # Replace this with the actual accuracy of the Decision Tree\n",
    "accuracy_knn = 0.5   # Replace this with the actual accuracy of the KNN\n",
    "\n",
    "# Compare the accuracies\n",
    "if accuracy_tree > accuracy_knn:\n",
    "    print(f\"The Decision Tree performs better with an accuracy of {accuracy_tree:.4f}.\")\n",
    "elif accuracy_knn > accuracy_tree:\n",
    "    print(f\"The KNN performs better with an accuracy of {accuracy_knn:.4f}.\")\n",
    "else:\n",
    "    print(\"Both methods have the same accuracy.\")"
   ]
  },
  {
   "cell_type": "markdown",
   "metadata": {},
   "source": [
    "## Authors\n"
   ]
  },
  {
   "cell_type": "markdown",
   "metadata": {},
   "source": [
    "[Pratiksha Verma](https://www.linkedin.com/in/pratiksha-verma-6487561b1/)\n"
   ]
  },
  {
   "cell_type": "markdown",
   "metadata": {},
   "source": [
    "<!--## Change Log--!>\n"
   ]
  },
  {
   "cell_type": "markdown",
   "metadata": {},
   "source": [
    "<!--| Date (YYYY-MM-DD) | Version | Changed By      | Change Description      |\n",
    "| ----------------- | ------- | -------------   | ----------------------- |\n",
    "| 2022-11-09        | 1.0     | Pratiksha Verma | Converted initial version to Jupyterlite|--!>\n"
   ]
  },
  {
   "cell_type": "markdown",
   "metadata": {},
   "source": [
    "### <h3 align=\"center\"> IBM Corporation 2022. All rights reserved. <h3/>\n"
   ]
  }
 ],
 "metadata": {
  "kernelspec": {
   "display_name": "Python 3 (ipykernel)",
   "language": "python",
   "name": "python3"
  },
  "language_info": {
   "codemirror_mode": {
    "name": "ipython",
    "version": 3
   },
   "file_extension": ".py",
   "mimetype": "text/x-python",
   "name": "python",
   "nbconvert_exporter": "python",
   "pygments_lexer": "ipython3",
   "version": "3.13.0"
  },
  "prev_pub_hash": "5885e7f872892cbaf7ece79588f481df62fe172ff2fb09135787e2cd1c657276"
 },
 "nbformat": 4,
 "nbformat_minor": 4
}
